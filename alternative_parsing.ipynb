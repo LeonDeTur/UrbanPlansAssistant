{
 "cells": [
  {
   "cell_type": "code",
   "id": "initial_id",
   "metadata": {
    "collapsed": true,
    "ExecuteTime": {
     "end_time": "2025-04-18T08:41:03.692768Z",
     "start_time": "2025-04-18T08:41:03.688265Z"
    }
   },
   "source": [
    "import json\n",
    "\n",
    "from tqdm.auto import tqdm\n",
    "import pandas as pd\n",
    "import nltk\n",
    "import requests\n",
    "\n",
    "nltk.download('stopwords')\n",
    "nltk.download('punkt')\n",
    "nltk.download('punkt_tab')\n",
    "\n",
    "\n",
    "tqdm.pandas()\n",
    "\n",
    "\n",
    "client_cert = \"20250129_IDU_ADGX_LeonTur.crt\"\n",
    "ca_cert = \"onti-ca.crt\"\n",
    "client_key = \"DECFILE\""
   ],
   "outputs": [
    {
     "name": "stderr",
     "output_type": "stream",
     "text": [
      "[nltk_data] Downloading package stopwords to\n",
      "[nltk_data]     C:\\Users\\Dash\\AppData\\Roaming\\nltk_data...\n",
      "[nltk_data]   Package stopwords is already up-to-date!\n",
      "[nltk_data] Downloading package punkt to\n",
      "[nltk_data]     C:\\Users\\Dash\\AppData\\Roaming\\nltk_data...\n",
      "[nltk_data]   Package punkt is already up-to-date!\n",
      "[nltk_data] Downloading package punkt_tab to\n",
      "[nltk_data]     C:\\Users\\Dash\\AppData\\Roaming\\nltk_data...\n",
      "[nltk_data]   Package punkt_tab is already up-to-date!\n"
     ]
    }
   ],
   "execution_count": 19
  },
  {
   "metadata": {
    "ExecuteTime": {
     "end_time": "2025-04-18T08:41:06.347701Z",
     "start_time": "2025-04-18T08:41:06.343904Z"
    }
   },
   "cell_type": "code",
   "source": [
    "from nltk.tokenize import word_tokenize\n",
    "\n",
    "text = \"Лемматизированная форма слова листья это лист\"\n",
    "tokens = word_tokenize(text)\n",
    "print(tokens)"
   ],
   "id": "f71071dae790f240",
   "outputs": [
    {
     "name": "stdout",
     "output_type": "stream",
     "text": [
      "['Лемматизированная', 'форма', 'слова', 'листья', 'это', 'лист']\n"
     ]
    }
   ],
   "execution_count": 20
  },
  {
   "metadata": {
    "ExecuteTime": {
     "end_time": "2025-04-18T08:41:06.606369Z",
     "start_time": "2025-04-18T08:41:06.587968Z"
    }
   },
   "cell_type": "code",
   "source": "df = pd.read_csv(\"with_names.csv\")",
   "id": "e9c647cd39113d34",
   "outputs": [],
   "execution_count": 21
  },
  {
   "metadata": {
    "ExecuteTime": {
     "end_time": "2025-04-18T08:41:07.252926Z",
     "start_time": "2025-04-18T08:41:07.052237Z"
    }
   },
   "cell_type": "code",
   "source": "df[\"tags\"] = df[\"text\"].apply(word_tokenize)",
   "id": "d3a70208dc1bb39b",
   "outputs": [],
   "execution_count": 22
  },
  {
   "metadata": {
    "ExecuteTime": {
     "end_time": "2025-04-18T08:41:07.911676Z",
     "start_time": "2025-04-18T08:41:07.907745Z"
    }
   },
   "cell_type": "code",
   "source": [
    "import re\n",
    "\n",
    "def clean_from_non_alpha(words: list[str]) -> list[str]:\n",
    "\n",
    "    cleaned_list = []\n",
    "    for i in words:\n",
    "        cleaned_word = re.sub(r'[^a-zA-Zа-яА-ЯёЁ0-9]', '', i)\n",
    "        if cleaned_word:\n",
    "            cleaned_list.append(cleaned_word)\n",
    "\n",
    "    return cleaned_list"
   ],
   "id": "af40195e0cb9c856",
   "outputs": [],
   "execution_count": 23
  },
  {
   "metadata": {
    "ExecuteTime": {
     "end_time": "2025-04-18T08:41:08.659022Z",
     "start_time": "2025-04-18T08:41:08.627286Z"
    }
   },
   "cell_type": "code",
   "source": "df[\"tags\"] = df[\"tags\"].apply(clea_from_non_alpha)",
   "id": "87906f25d1f1dcd8",
   "outputs": [],
   "execution_count": 24
  },
  {
   "metadata": {
    "ExecuteTime": {
     "end_time": "2025-04-18T08:41:09.176205Z",
     "start_time": "2025-04-18T08:41:09.172646Z"
    }
   },
   "cell_type": "code",
   "source": [
    "def construct_lemma_prompt(text: str) -> str:\n",
    "\n",
    "    prompt = f\"\"\"\n",
    "        Приведи слово \"{text}\" в первоначальную форму.\n",
    "        В качестве ответа дай только это слово в первоначальной форме.\n",
    "        Если слово не было предоставлено, то в качестве овтета дай \"\"\n",
    "        \"\"\"\n",
    "    return prompt"
   ],
   "id": "36bfbc0b307ee31a",
   "outputs": [],
   "execution_count": 25
  },
  {
   "metadata": {
    "ExecuteTime": {
     "end_time": "2025-04-18T08:41:09.971548Z",
     "start_time": "2025-04-18T08:41:09.966642Z"
    }
   },
   "cell_type": "code",
   "source": [
    "def request_from_llm(prompt: str) -> str:\n",
    "    \"\"\"\n",
    "    Function extracts prompt from llm api\n",
    "    Args:\n",
    "        prompt (str): prompt to execute\n",
    "    Returns:\n",
    "        str: request from llm\n",
    "    \"\"\"\n",
    "\n",
    "    headers = {\n",
    "        \"Content-Type\": \"application/json\"\n",
    "    }\n",
    "    data = {\n",
    "        \"model\": \"llama3.3\",\n",
    "        \"prompt\": prompt,\n",
    "        \"stream\": False,\n",
    "    }\n",
    "    response = requests.post(\n",
    "        url=\"http://a.dgx:11434/api/generate\",\n",
    "        headers=headers,\n",
    "        data=json.dumps(data),\n",
    "        cert=(client_cert, client_key),\n",
    "        verify=ca_cert\n",
    "    )\n",
    "    if response.status_code == 200:\n",
    "        return response.json()[\"response\"]\n",
    "    return \"\""
   ],
   "id": "34bbd61e7af3df73",
   "outputs": [],
   "execution_count": 26
  },
  {
   "metadata": {
    "ExecuteTime": {
     "end_time": "2025-04-18T08:41:11.784976Z",
     "start_time": "2025-04-18T08:41:11.781178Z"
    }
   },
   "cell_type": "code",
   "source": [
    "def get_tags(text: str) -> str:\n",
    "\n",
    "    prompt = construct_lemma_prompt(text)\n",
    "    tags_from_llm = request_from_llm(prompt)\n",
    "    return tags_from_llm"
   ],
   "id": "fba2d02ad0b7db8b",
   "outputs": [],
   "execution_count": 27
  },
  {
   "metadata": {
    "ExecuteTime": {
     "end_time": "2025-04-18T08:41:15.978672Z",
     "start_time": "2025-04-18T08:41:15.975152Z"
    }
   },
   "cell_type": "code",
   "source": [
    "def get_tags_from_list(tags: list[str]) -> list[str]:\n",
    "\n",
    "    res_list = []\n",
    "    for tag in tags:\n",
    "        res_list.append(get_tags(tag))\n",
    "    return res_list"
   ],
   "id": "d3c7e1922a4efcb3",
   "outputs": [],
   "execution_count": 28
  },
  {
   "metadata": {
    "ExecuteTime": {
     "end_time": "2025-04-18T10:39:17.769924Z",
     "start_time": "2025-04-18T08:41:16.492322Z"
    }
   },
   "cell_type": "code",
   "source": "df[\"tags\"] = df[\"tags\"].progress_apply(get_tags)(get_tags_from_list)",
   "id": "349b652896653a9a",
   "outputs": [
    {
     "data": {
      "text/plain": [
       "  0%|          | 0/1265 [00:00<?, ?it/s]"
      ],
      "application/vnd.jupyter.widget-view+json": {
       "version_major": 2,
       "version_minor": 0,
       "model_id": "f98b6353c3ae4de08a5497e6455e3d55"
      }
     },
     "metadata": {},
     "output_type": "display_data"
    },
    {
     "ename": "TypeError",
     "evalue": "'Series' object is not callable",
     "output_type": "error",
     "traceback": [
      "\u001B[31m---------------------------------------------------------------------------\u001B[39m",
      "\u001B[31mTypeError\u001B[39m                                 Traceback (most recent call last)",
      "\u001B[36mCell\u001B[39m\u001B[36m \u001B[39m\u001B[32mIn[29]\u001B[39m\u001B[32m, line 1\u001B[39m\n\u001B[32m----> \u001B[39m\u001B[32m1\u001B[39m df[\u001B[33m\"\u001B[39m\u001B[33mtags\u001B[39m\u001B[33m\"\u001B[39m] = \u001B[43mdf\u001B[49m\u001B[43m[\u001B[49m\u001B[33;43m\"\u001B[39;49m\u001B[33;43mtags\u001B[39;49m\u001B[33;43m\"\u001B[39;49m\u001B[43m]\u001B[49m\u001B[43m.\u001B[49m\u001B[43mprogress_apply\u001B[49m\u001B[43m(\u001B[49m\u001B[43mget_tags\u001B[49m\u001B[43m)\u001B[49m\u001B[43m(\u001B[49m\u001B[43mget_tags_from_list\u001B[49m\u001B[43m)\u001B[49m\n",
      "\u001B[31mTypeError\u001B[39m: 'Series' object is not callable"
     ]
    }
   ],
   "execution_count": 29
  },
  {
   "metadata": {
    "ExecuteTime": {
     "end_time": "2025-04-18T12:50:21.744765Z",
     "start_time": "2025-04-18T12:50:21.734196Z"
    }
   },
   "cell_type": "code",
   "source": "df[\"tags\"]",
   "id": "dfee48855e4c226c",
   "outputs": [
    {
     "data": {
      "text/plain": [
       "0                                            [ПРИЛОЖЕНИЕ]\n",
       "1                            [к, Закону, СанктПетербурга]\n",
       "2                                          [О, Стратегии]\n",
       "3                               [социальноэкономического]\n",
       "4                             [развития, СанктПетербурга]\n",
       "                              ...                        \n",
       "1260    [улучшение, инвестиционного, климата, СанктПет...\n",
       "1261    [Исходя, из, оценки, ретроспективных, данных, ...\n",
       "1262    [Реализация, Стратегии, 2035, осуществляется, ...\n",
       "1263    [Государственные, программы, СанктПетербурга, ...\n",
       "1264    [Перечень, государственных, программ, СанктПет...\n",
       "Name: tags, Length: 1265, dtype: object"
      ]
     },
     "execution_count": 30,
     "metadata": {},
     "output_type": "execute_result"
    }
   ],
   "execution_count": 30
  },
  {
   "metadata": {},
   "cell_type": "code",
   "outputs": [],
   "execution_count": null,
   "source": "",
   "id": "a124b2c977ff22ab"
  }
 ],
 "metadata": {
  "kernelspec": {
   "display_name": "Python 3",
   "language": "python",
   "name": "python3"
  },
  "language_info": {
   "codemirror_mode": {
    "name": "ipython",
    "version": 2
   },
   "file_extension": ".py",
   "mimetype": "text/x-python",
   "name": "python",
   "nbconvert_exporter": "python",
   "pygments_lexer": "ipython2",
   "version": "2.7.6"
  }
 },
 "nbformat": 4,
 "nbformat_minor": 5
}
