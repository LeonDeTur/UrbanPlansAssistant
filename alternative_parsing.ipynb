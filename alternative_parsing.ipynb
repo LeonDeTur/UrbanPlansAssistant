{
 "cells": [
  {
   "cell_type": "code",
   "id": "initial_id",
   "metadata": {
    "collapsed": true,
    "ExecuteTime": {
     "end_time": "2025-04-17T15:04:41.012231Z",
     "start_time": "2025-04-17T15:04:41.008109Z"
    }
   },
   "source": [
    "import json\n",
    "\n",
    "import pandas as pd\n",
    "import nltk\n",
    "import requests\n",
    "\n",
    "nltk.download('stopwords')\n",
    "nltk.download('punkt')\n",
    "nltk.download('punkt_tab')\n",
    "\n",
    "\n",
    "client_cert = \"20250129_IDU_ADGX_LeonTur.crt\"\n",
    "ca_cert = \"onti-ca.crt\"\n",
    "client_key = \"DECFILE\""
   ],
   "outputs": [
    {
     "name": "stderr",
     "output_type": "stream",
     "text": [
      "[nltk_data] Downloading package stopwords to\n",
      "[nltk_data]     C:\\Users\\Dash\\AppData\\Roaming\\nltk_data...\n",
      "[nltk_data]   Package stopwords is already up-to-date!\n",
      "[nltk_data] Downloading package punkt to\n",
      "[nltk_data]     C:\\Users\\Dash\\AppData\\Roaming\\nltk_data...\n",
      "[nltk_data]   Package punkt is already up-to-date!\n",
      "[nltk_data] Downloading package punkt_tab to\n",
      "[nltk_data]     C:\\Users\\Dash\\AppData\\Roaming\\nltk_data...\n",
      "[nltk_data]   Package punkt_tab is already up-to-date!\n"
     ]
    }
   ],
   "execution_count": 25
  },
  {
   "metadata": {
    "ExecuteTime": {
     "end_time": "2025-04-17T15:04:41.982159Z",
     "start_time": "2025-04-17T15:04:41.976466Z"
    }
   },
   "cell_type": "code",
   "source": [
    "from nltk.tokenize import word_tokenize\n",
    "\n",
    "text = \"Лемматизированная форма слова листья это лист\"\n",
    "tokens = word_tokenize(text)\n",
    "print(tokens)"
   ],
   "id": "f71071dae790f240",
   "outputs": [
    {
     "name": "stdout",
     "output_type": "stream",
     "text": [
      "['Лемматизированная', 'форма', 'слова', 'листья', 'это', 'лист']\n"
     ]
    }
   ],
   "execution_count": 26
  },
  {
   "metadata": {
    "ExecuteTime": {
     "end_time": "2025-04-17T13:55:00.082756Z",
     "start_time": "2025-04-17T13:55:00.055236Z"
    }
   },
   "cell_type": "code",
   "source": "df = pd.read_csv(\"with_names.csv\")",
   "id": "e9c647cd39113d34",
   "outputs": [],
   "execution_count": 9
  },
  {
   "metadata": {
    "ExecuteTime": {
     "end_time": "2025-04-17T14:06:16.382280Z",
     "start_time": "2025-04-17T14:06:16.186369Z"
    }
   },
   "cell_type": "code",
   "source": "df[\"tags\"] = df[\"text\"].apply(word_tokenize)",
   "id": "d3a70208dc1bb39b",
   "outputs": [],
   "execution_count": 11
  },
  {
   "metadata": {
    "ExecuteTime": {
     "end_time": "2025-04-17T14:13:39.526350Z",
     "start_time": "2025-04-17T14:13:39.522109Z"
    }
   },
   "cell_type": "code",
   "source": [
    "import re\n",
    "\n",
    "def clea_from_non_alpha(words: list[str]) -> list[str]:\n",
    "\n",
    "    cleaned_list = []\n",
    "    for i in words:\n",
    "        cleaned_word = re.sub(r'[^a-zA-Zа-яА-ЯёЁ0-9]', '', i)\n",
    "        if cleaned_word:\n",
    "            cleaned_list.append(cleaned_word)\n",
    "\n",
    "    return cleaned_list"
   ],
   "id": "af40195e0cb9c856",
   "outputs": [],
   "execution_count": 13
  },
  {
   "metadata": {
    "ExecuteTime": {
     "end_time": "2025-04-17T14:13:55.384432Z",
     "start_time": "2025-04-17T14:13:55.352848Z"
    }
   },
   "cell_type": "code",
   "source": "df[\"tags\"] = df[\"tags\"].apply(clea_from_non_alpha)",
   "id": "87906f25d1f1dcd8",
   "outputs": [],
   "execution_count": 14
  },
  {
   "metadata": {
    "ExecuteTime": {
     "end_time": "2025-04-17T15:01:00.232500Z",
     "start_time": "2025-04-17T15:01:00.210770Z"
    }
   },
   "cell_type": "code",
   "source": [
    "def construct_lemma_prompt(text: str) -> str:\n",
    "\n",
    "    prompt = f\"\"\"\n",
    "        Приведи слово \"{text}\" в первоначальную форму.\n",
    "        В качестве ответа дай только это слово в первоначальной форме.\n",
    "        Если слово не было предоставлено, то в качестве овтета дай \"\"\n",
    "        \"\"\"\n",
    "    return prompt"
   ],
   "id": "36bfbc0b307ee31a",
   "outputs": [],
   "execution_count": 18
  },
  {
   "metadata": {
    "ExecuteTime": {
     "end_time": "2025-04-17T15:01:00.551031Z",
     "start_time": "2025-04-17T15:01:00.544927Z"
    }
   },
   "cell_type": "code",
   "source": [
    "def request_from_llm(prompt: str) -> str:\n",
    "    \"\"\"\n",
    "    Function extracts prompt from llm api\n",
    "    Args:\n",
    "        prompt (str): prompt to execute\n",
    "    Returns:\n",
    "        str: request from llm\n",
    "    \"\"\"\n",
    "\n",
    "    headers = {\n",
    "        \"Content-Type\": \"application/json\"\n",
    "    }\n",
    "    data = {\n",
    "        \"model\": \"llama3.3\",\n",
    "        \"prompt\": prompt,\n",
    "        \"stream\": False,\n",
    "    }\n",
    "    response = requests.post(\n",
    "        url=\"http://a.dgx:11434/api/generate\",\n",
    "        headers=headers,\n",
    "        data=json.dumps(data),\n",
    "        cert=(client_cert, client_key),\n",
    "        verify=ca_cert\n",
    "    )\n",
    "    if response.status_code == 200:\n",
    "        return response.json()[\"response\"]\n",
    "    return \"\""
   ],
   "id": "34bbd61e7af3df73",
   "outputs": [],
   "execution_count": 19
  },
  {
   "metadata": {},
   "cell_type": "code",
   "outputs": [],
   "execution_count": null,
   "source": [
    "def get_tags(text: str) -> str:\n",
    "\n",
    "    prompt = construct_fform(text)\n",
    "    tags_from_llm = request_from_llm(prompt)\n",
    "    return tags_from_llm"
   ],
   "id": "fba2d02ad0b7db8b"
  },
  {
   "metadata": {},
   "cell_type": "code",
   "outputs": [],
   "execution_count": null,
   "source": [
    "res_tags = []\n",
    "for i in tokens:\n",
    "    fform ="
   ],
   "id": "d3c7e1922a4efcb3"
  }
 ],
 "metadata": {
  "kernelspec": {
   "display_name": "Python 3",
   "language": "python",
   "name": "python3"
  },
  "language_info": {
   "codemirror_mode": {
    "name": "ipython",
    "version": 2
   },
   "file_extension": ".py",
   "mimetype": "text/x-python",
   "name": "python",
   "nbconvert_exporter": "python",
   "pygments_lexer": "ipython2",
   "version": "2.7.6"
  }
 },
 "nbformat": 4,
 "nbformat_minor": 5
}
