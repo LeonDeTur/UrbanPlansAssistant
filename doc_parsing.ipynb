{
 "cells": [
  {
   "cell_type": "code",
   "id": "initial_id",
   "metadata": {
    "collapsed": true,
    "ExecuteTime": {
     "end_time": "2025-04-10T13:37:03.603433Z",
     "start_time": "2025-04-10T13:37:02.516820Z"
    }
   },
   "source": [
    "import json\n",
    "\n",
    "from tqdm.auto import tqdm\n",
    "import requests\n",
    "import pandas as pd\n",
    "from docx import Document\n",
    "\n",
    "\n",
    "client_cert = \"20250129_IDU_ADGX_LeonTur.crt\"\n",
    "ca_cert = \"onti-ca.crt\"\n",
    "client_key = \"DECFILE\""
   ],
   "outputs": [],
   "execution_count": 2
  },
  {
   "metadata": {
    "ExecuteTime": {
     "end_time": "2025-04-10T14:27:17.412168Z",
     "start_time": "2025-04-10T14:27:17.408627Z"
    }
   },
   "cell_type": "code",
   "source": [
    "def construct_prompt(context):\n",
    "    \"\"\"\n",
    "    Формирует промпт для модели на основе контекста.\n",
    "    \"\"\"\n",
    "\n",
    "    context_str = \"\\n\".join(context) if isinstance(context, list) else str(context)\n",
    "    dict_example = {\n",
    "        \"name\": \"Юбилейный\",\n",
    "        \"location\": \"Дубровка, Россия\",\n",
    "    }\n",
    "    prompt = f\"\"\"\n",
    "        Найди названия в тексте {context_str}.\n",
    "        Названия должны принадлежать населеённым пунктам или административным единицам, которые физически представлены на территории.\n",
    "        Приведи названия в начальную форму. Добавь как можно больше названий на основе контекста. В качестве ответа напиши только название. Если название не представлено в тексте или текст отсутствует, в качестве ответа дай ''\n",
    "        Если названий больше одного, сохрани названия элементами в списке через запятую [Название1, Название2, Название3]\n",
    "        \"\"\"\n",
    "    return prompt"
   ],
   "id": "c768cc263479cbc1",
   "outputs": [],
   "execution_count": 13
  },
  {
   "metadata": {
    "ExecuteTime": {
     "end_time": "2025-04-10T14:27:19.460054Z",
     "start_time": "2025-04-10T14:27:19.456517Z"
    }
   },
   "cell_type": "code",
   "source": [
    "def request_from_llm(prompt: str) -> str:\n",
    "    \"\"\"\n",
    "    Function extracts prompt from llm api\n",
    "    Args:\n",
    "        prompt (str): prompt to execute\n",
    "    Returns:\n",
    "        str: request from llm\n",
    "    \"\"\"\n",
    "\n",
    "    headers = {\n",
    "        \"Content-Type\": \"application/json\"\n",
    "    }\n",
    "    data = {\n",
    "        \"model\": \"llama3.3\",\n",
    "        \"prompt\": prompt,\n",
    "        \"stream\": False,\n",
    "    }\n",
    "    response = requests.post(\n",
    "        url=\"http://a.dgx:11434/api/generate\",\n",
    "        headers=headers,\n",
    "        data=json.dumps(data),\n",
    "        cert=(client_cert, client_key),\n",
    "        verify=ca_cert\n",
    "    )\n",
    "    if response.status_code == 200:\n",
    "        return response.json()[\"response\"]\n",
    "    return \"\""
   ],
   "id": "f0f90abfcc3535a4",
   "outputs": [],
   "execution_count": 14
  },
  {
   "metadata": {
    "ExecuteTime": {
     "end_time": "2025-04-10T14:27:21.447342Z",
     "start_time": "2025-04-10T14:27:19.860608Z"
    }
   },
   "cell_type": "code",
   "source": [
    "def extract_ner(text: str) -> str:\n",
    "\n",
    "    prompt = construct_prompt(text)\n",
    "    response_text = request_from_llm(prompt)\n",
    "    return response_text\n",
    "test = extract_ner(\"В Санкт-Петерубрге сегодня несолнечно, холодно, депрессивно и вообще повеситься хочется\")\n",
    "test"
   ],
   "id": "59a8fc9cb7348151",
   "outputs": [
    {
     "data": {
      "text/plain": [
       "'Санкт-Петербург'"
      ]
     },
     "execution_count": 15,
     "metadata": {},
     "output_type": "execute_result"
    }
   ],
   "execution_count": 15
  },
  {
   "metadata": {
    "ExecuteTime": {
     "end_time": "2025-04-10T14:27:22.769917Z",
     "start_time": "2025-04-10T14:27:22.752656Z"
    }
   },
   "cell_type": "code",
   "source": "test_doc = Document(\"стратегия_2035.docx\")",
   "id": "c32374690fb16383",
   "outputs": [],
   "execution_count": 16
  },
  {
   "metadata": {
    "jupyter": {
     "is_executing": true
    },
    "ExecuteTime": {
     "start_time": "2025-04-10T14:27:24.314089Z"
    }
   },
   "cell_type": "code",
   "source": [
    "list_for_save = []\n",
    "current_par = []\n",
    "switcher = False\n",
    "privios_par = None\n",
    "total_parapgraphs = []\n",
    "for paragraph in tqdm(test_doc.paragraphs, desc=\"Processing texts\"):\n",
    "    if paragraph.style.name == \"ConsPlusTitle\":\n",
    "        if switcher:\n",
    "            current_par = [paragraph.text]\n",
    "            total_parapgraphs.append(paragraph.text)\n",
    "            switcher = False\n",
    "        else:\n",
    "            current_par.append(paragraph.text)\n",
    "            total_parapgraphs.append(paragraph.text)\n",
    "    else:\n",
    "        if not switcher:\n",
    "            switcher = True\n",
    "        if paragraph.text:\n",
    "            list_for_save.append(\n",
    "                {\n",
    "                    \"text\": paragraph.text,\n",
    "                    \"title\": \"\".join(current_par),\n",
    "                    \"NER\": extract_ner(paragraph.text),\n",
    "                }\n",
    "            )"
   ],
   "id": "427b1fabfc93a4cf",
   "outputs": [
    {
     "data": {
      "text/plain": [
       "Processing texts:   0%|          | 0/1493 [00:00<?, ?it/s]"
      ],
      "application/vnd.jupyter.widget-view+json": {
       "version_major": 2,
       "version_minor": 0,
       "model_id": "cfabed147a6947f185284dfc91365cd9"
      }
     },
     "metadata": {},
     "output_type": "display_data"
    }
   ],
   "execution_count": null
  },
  {
   "metadata": {
    "ExecuteTime": {
     "end_time": "2025-04-10T14:23:55.978023Z",
     "start_time": "2025-04-10T14:23:55.973148Z"
    }
   },
   "cell_type": "code",
   "source": "df = pd.DataFrame.from_records(list_for_save)",
   "id": "14d319b55f0a2bee",
   "outputs": [],
   "execution_count": 10
  },
  {
   "metadata": {
    "ExecuteTime": {
     "end_time": "2025-04-10T14:24:03.039438Z",
     "start_time": "2025-04-10T14:24:03.028387Z"
    }
   },
   "cell_type": "code",
   "source": "df",
   "id": "ca3a298800516071",
   "outputs": [
    {
     "data": {
      "text/plain": [
       "                                                   text  \\\n",
       "0                                            ПРИЛОЖЕНИЕ   \n",
       "1                             к Закону Санкт-Петербурга   \n",
       "2                                          \"О Стратегии   \n",
       "3                              социально-экономического   \n",
       "4                             развития Санкт-Петербурга   \n",
       "...                                                 ...   \n",
       "1398  Перечень государственных программ Санкт-Петерб...   \n",
       "1399                                                      \n",
       "1400                                                      \n",
       "1401                                                      \n",
       "1402                                                      \n",
       "\n",
       "                                                  title  \\\n",
       "0                                                         \n",
       "1                                                         \n",
       "2                                                         \n",
       "3                                                         \n",
       "4                                                         \n",
       "...                                                 ...   \n",
       "1398  11. Информация о государственных программахСан...   \n",
       "1399  11. Информация о государственных программахСан...   \n",
       "1400  11. Информация о государственных программахСан...   \n",
       "1401  11. Информация о государственных программахСан...   \n",
       "1402  11. Информация о государственных программахСан...   \n",
       "\n",
       "                                                    NER  \n",
       "0                                            ПРИЛОЖЕНИЕ  \n",
       "1      Не предоставлен текст к Закону Санкт-Петербурга.  \n",
       "2     Поскольку текст \"О Стратегии\" не предоставлен,...  \n",
       "3     Не вижу предоставленного текста. Пожалуйста, д...  \n",
       "4                      Петербург, Ленинградская область  \n",
       "...                                                 ...  \n",
       "1398                                    Санкт-Петербург  \n",
       "1399  Пожалуйста, предоставьте текст для поиска назв...  \n",
       "1400  Поскольку вы не предоставили текст для анализа...  \n",
       "1401  Пожалуйста, предоставьте текст для анализа. Я ...  \n",
       "1402        Пожалуйста, предоставьте текст для анализа.  \n",
       "\n",
       "[1403 rows x 3 columns]"
      ],
      "text/html": [
       "<div>\n",
       "<style scoped>\n",
       "    .dataframe tbody tr th:only-of-type {\n",
       "        vertical-align: middle;\n",
       "    }\n",
       "\n",
       "    .dataframe tbody tr th {\n",
       "        vertical-align: top;\n",
       "    }\n",
       "\n",
       "    .dataframe thead th {\n",
       "        text-align: right;\n",
       "    }\n",
       "</style>\n",
       "<table border=\"1\" class=\"dataframe\">\n",
       "  <thead>\n",
       "    <tr style=\"text-align: right;\">\n",
       "      <th></th>\n",
       "      <th>text</th>\n",
       "      <th>title</th>\n",
       "      <th>NER</th>\n",
       "    </tr>\n",
       "  </thead>\n",
       "  <tbody>\n",
       "    <tr>\n",
       "      <th>0</th>\n",
       "      <td>ПРИЛОЖЕНИЕ</td>\n",
       "      <td></td>\n",
       "      <td>ПРИЛОЖЕНИЕ</td>\n",
       "    </tr>\n",
       "    <tr>\n",
       "      <th>1</th>\n",
       "      <td>к Закону Санкт-Петербурга</td>\n",
       "      <td></td>\n",
       "      <td>Не предоставлен текст к Закону Санкт-Петербурга.</td>\n",
       "    </tr>\n",
       "    <tr>\n",
       "      <th>2</th>\n",
       "      <td>\"О Стратегии</td>\n",
       "      <td></td>\n",
       "      <td>Поскольку текст \"О Стратегии\" не предоставлен,...</td>\n",
       "    </tr>\n",
       "    <tr>\n",
       "      <th>3</th>\n",
       "      <td>социально-экономического</td>\n",
       "      <td></td>\n",
       "      <td>Не вижу предоставленного текста. Пожалуйста, д...</td>\n",
       "    </tr>\n",
       "    <tr>\n",
       "      <th>4</th>\n",
       "      <td>развития Санкт-Петербурга</td>\n",
       "      <td></td>\n",
       "      <td>Петербург, Ленинградская область</td>\n",
       "    </tr>\n",
       "    <tr>\n",
       "      <th>...</th>\n",
       "      <td>...</td>\n",
       "      <td>...</td>\n",
       "      <td>...</td>\n",
       "    </tr>\n",
       "    <tr>\n",
       "      <th>1398</th>\n",
       "      <td>Перечень государственных программ Санкт-Петерб...</td>\n",
       "      <td>11. Информация о государственных программахСан...</td>\n",
       "      <td>Санкт-Петербург</td>\n",
       "    </tr>\n",
       "    <tr>\n",
       "      <th>1399</th>\n",
       "      <td></td>\n",
       "      <td>11. Информация о государственных программахСан...</td>\n",
       "      <td>Пожалуйста, предоставьте текст для поиска назв...</td>\n",
       "    </tr>\n",
       "    <tr>\n",
       "      <th>1400</th>\n",
       "      <td></td>\n",
       "      <td>11. Информация о государственных программахСан...</td>\n",
       "      <td>Поскольку вы не предоставили текст для анализа...</td>\n",
       "    </tr>\n",
       "    <tr>\n",
       "      <th>1401</th>\n",
       "      <td></td>\n",
       "      <td>11. Информация о государственных программахСан...</td>\n",
       "      <td>Пожалуйста, предоставьте текст для анализа. Я ...</td>\n",
       "    </tr>\n",
       "    <tr>\n",
       "      <th>1402</th>\n",
       "      <td></td>\n",
       "      <td>11. Информация о государственных программахСан...</td>\n",
       "      <td>Пожалуйста, предоставьте текст для анализа.</td>\n",
       "    </tr>\n",
       "  </tbody>\n",
       "</table>\n",
       "<p>1403 rows × 3 columns</p>\n",
       "</div>"
      ]
     },
     "execution_count": 11,
     "metadata": {},
     "output_type": "execute_result"
    }
   ],
   "execution_count": 11
  },
  {
   "metadata": {
    "ExecuteTime": {
     "end_time": "2025-04-10T11:46:28.264892Z",
     "start_time": "2025-04-10T11:46:28.260832Z"
    }
   },
   "cell_type": "code",
   "source": "name = \" \".join(df[df[\"title\"].isin([\"\"])][\"text\"].to_list())",
   "id": "a628df773afcb953",
   "outputs": [],
   "execution_count": 32
  },
  {
   "metadata": {
    "ExecuteTime": {
     "end_time": "2025-04-10T11:46:30.823907Z",
     "start_time": "2025-04-10T11:46:30.818191Z"
    }
   },
   "cell_type": "code",
   "source": "name",
   "id": "7b6ae9cbec1a5707",
   "outputs": [
    {
     "data": {
      "text/plain": [
       "'ПРИЛОЖЕНИЕ к Закону Санкт-Петербурга \"О Стратегии социально-экономического развития Санкт-Петербурга на период до 2035 года\" от 19.12.2018 N 771-164 '"
      ]
     },
     "execution_count": 33,
     "metadata": {},
     "output_type": "execute_result"
    }
   ],
   "execution_count": 33
  },
  {
   "metadata": {},
   "cell_type": "code",
   "outputs": [],
   "execution_count": null,
   "source": "",
   "id": "f91d405c78ddc978"
  }
 ],
 "metadata": {
  "kernelspec": {
   "display_name": "Python 3",
   "language": "python",
   "name": "python3"
  },
  "language_info": {
   "codemirror_mode": {
    "name": "ipython",
    "version": 2
   },
   "file_extension": ".py",
   "mimetype": "text/x-python",
   "name": "python",
   "nbconvert_exporter": "python",
   "pygments_lexer": "ipython2",
   "version": "2.7.6"
  }
 },
 "nbformat": 4,
 "nbformat_minor": 5
}
