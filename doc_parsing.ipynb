{
 "cells": [
  {
   "cell_type": "code",
   "id": "initial_id",
   "metadata": {
    "collapsed": true,
    "ExecuteTime": {
     "end_time": "2025-04-17T09:50:34.909567Z",
     "start_time": "2025-04-17T09:50:30.188784Z"
    }
   },
   "source": [
    "import json\n",
    "import time\n",
    "\n",
    "from tqdm.auto import tqdm\n",
    "import requests\n",
    "import pandas as pd\n",
    "import geopandas as gpd\n",
    "from docx import Document\n",
    "\n",
    "\n",
    "tqdm.pandas()\n",
    "client_cert = \"20250129_IDU_ADGX_LeonTur.crt\"\n",
    "ca_cert = \"onti-ca.crt\"\n",
    "client_key = \"DECFILE\""
   ],
   "outputs": [],
   "execution_count": 1
  },
  {
   "metadata": {
    "ExecuteTime": {
     "end_time": "2025-04-17T09:50:45.540387Z",
     "start_time": "2025-04-17T09:50:45.535894Z"
    }
   },
   "cell_type": "code",
   "source": [
    "def construct_prompt(context):\n",
    "    \"\"\"\n",
    "    Формирует промпт для модели на основе контекста.\n",
    "    \"\"\"\n",
    "\n",
    "    context_str = \"\\n\".join(context) if isinstance(context, list) else str(context)\n",
    "    prompt = f\"\"\"\n",
    "        Найди названия в тексте {context_str}.\n",
    "        Названия должны принадлежать населеённым пунктам или административным единицам, которые физически представлены на территории.\n",
    "        Приведи названия в начальную форму. Добавь как можно больше названий на основе контекста. В качестве ответа напиши только название. Если название не представлено в тексте или текст отсутствует или не был предоставлен, в качестве ответа дай ''\n",
    "        Если названий больше одного, сохрани названия элементами в списке через запятую [Название1, Название2, Название3]\n",
    "        \"\"\"\n",
    "    return prompt"
   ],
   "id": "c768cc263479cbc1",
   "outputs": [],
   "execution_count": 4
  },
  {
   "metadata": {
    "ExecuteTime": {
     "end_time": "2025-04-17T09:50:45.928449Z",
     "start_time": "2025-04-17T09:50:45.923188Z"
    }
   },
   "cell_type": "code",
   "source": [
    "def request_from_llm(prompt: str) -> str:\n",
    "    \"\"\"\n",
    "    Function extracts prompt from llm api\n",
    "    Args:\n",
    "        prompt (str): prompt to execute\n",
    "    Returns:\n",
    "        str: request from llm\n",
    "    \"\"\"\n",
    "\n",
    "    headers = {\n",
    "        \"Content-Type\": \"application/json\"\n",
    "    }\n",
    "    data = {\n",
    "        \"model\": \"llama3.3\",\n",
    "        \"prompt\": prompt,\n",
    "        \"stream\": False,\n",
    "    }\n",
    "    response = requests.post(\n",
    "        url=\"http://a.dgx:11434/api/generate\",\n",
    "        headers=headers,\n",
    "        data=json.dumps(data),\n",
    "        cert=(client_cert, client_key),\n",
    "        verify=ca_cert\n",
    "    )\n",
    "    if response.status_code == 200:\n",
    "        return response.json()[\"response\"]\n",
    "    return \"\""
   ],
   "id": "f0f90abfcc3535a4",
   "outputs": [],
   "execution_count": 5
  },
  {
   "metadata": {
    "ExecuteTime": {
     "end_time": "2025-04-17T09:50:57.709064Z",
     "start_time": "2025-04-17T09:50:46.251507Z"
    }
   },
   "cell_type": "code",
   "source": [
    "def extract_ner(text: str) -> str:\n",
    "\n",
    "    prompt = construct_prompt(text)\n",
    "    response_text = request_from_llm(prompt)\n",
    "    return response_text\n",
    "test = extract_ner(\"В Санкт-Петерубрге сегодня несолнечно, холодно, депрессивно и вообще повеситься хочется\")\n",
    "test"
   ],
   "id": "59a8fc9cb7348151",
   "outputs": [
    {
     "data": {
      "text/plain": [
       "'Санкт-Петербург'"
      ]
     },
     "execution_count": 6,
     "metadata": {},
     "output_type": "execute_result"
    }
   ],
   "execution_count": 6
  },
  {
   "metadata": {
    "ExecuteTime": {
     "end_time": "2025-04-17T09:50:57.806867Z",
     "start_time": "2025-04-17T09:50:57.787239Z"
    }
   },
   "cell_type": "code",
   "source": "test_doc = Document(\"стратегия_2035.docx\")",
   "id": "c32374690fb16383",
   "outputs": [],
   "execution_count": 7
  },
  {
   "metadata": {
    "ExecuteTime": {
     "end_time": "2025-04-17T10:27:46.090694Z",
     "start_time": "2025-04-17T09:51:00.906265Z"
    }
   },
   "cell_type": "code",
   "source": [
    "list_for_save = []\n",
    "current_par = []\n",
    "switcher = False\n",
    "privios_par = None\n",
    "total_parapgraphs = []\n",
    "for paragraph in tqdm(test_doc.paragraphs, desc=\"Processing texts\"):\n",
    "    if paragraph.style.name == \"ConsPlusTitle\":\n",
    "        if switcher:\n",
    "            current_par = [paragraph.text]\n",
    "            total_parapgraphs.append(paragraph.text)\n",
    "            switcher = False\n",
    "        else:\n",
    "            current_par.append(paragraph.text)\n",
    "            total_parapgraphs.append(paragraph.text)\n",
    "    else:\n",
    "        if not switcher:\n",
    "            switcher = True\n",
    "        if paragraph.text:\n",
    "            list_for_save.append(\n",
    "                {\n",
    "                    \"text\": paragraph.text,\n",
    "                    \"title\": \"\".join(current_par),\n",
    "                    \"NER\": extract_ner(paragraph.text),\n",
    "                }\n",
    "            )"
   ],
   "id": "427b1fabfc93a4cf",
   "outputs": [
    {
     "data": {
      "text/plain": [
       "Processing texts:   0%|          | 0/1493 [00:00<?, ?it/s]"
      ],
      "application/vnd.jupyter.widget-view+json": {
       "version_major": 2,
       "version_minor": 0,
       "model_id": "a5efd438c0544ecaaa5e32dbfd06ff42"
      }
     },
     "metadata": {},
     "output_type": "display_data"
    }
   ],
   "execution_count": 8
  },
  {
   "metadata": {
    "ExecuteTime": {
     "end_time": "2025-04-17T11:04:25.428704Z",
     "start_time": "2025-04-17T11:04:25.422186Z"
    }
   },
   "cell_type": "code",
   "source": "df = pd.DataFrame.from_records(list_for_save)",
   "id": "14d319b55f0a2bee",
   "outputs": [],
   "execution_count": 9
  },
  {
   "metadata": {
    "ExecuteTime": {
     "end_time": "2025-04-17T11:04:53.077990Z",
     "start_time": "2025-04-17T11:04:53.061134Z"
    }
   },
   "cell_type": "code",
   "source": "df.to_csv(\"with_names.csv\")",
   "id": "ca3a298800516071",
   "outputs": [],
   "execution_count": 11
  },
  {
   "metadata": {
    "ExecuteTime": {
     "end_time": "2025-04-10T11:46:28.264892Z",
     "start_time": "2025-04-10T11:46:28.260832Z"
    }
   },
   "cell_type": "code",
   "source": "name = \" \".join(df[df[\"title\"].isin([\"\"])][\"text\"].to_list())",
   "id": "a628df773afcb953",
   "outputs": [],
   "execution_count": 32
  },
  {
   "metadata": {
    "ExecuteTime": {
     "end_time": "2025-04-10T11:46:30.823907Z",
     "start_time": "2025-04-10T11:46:30.818191Z"
    }
   },
   "cell_type": "code",
   "source": "name",
   "id": "7b6ae9cbec1a5707",
   "outputs": [
    {
     "data": {
      "text/plain": [
       "'ПРИЛОЖЕНИЕ к Закону Санкт-Петербурга \"О Стратегии социально-экономического развития Санкт-Петербурга на период до 2035 года\" от 19.12.2018 N 771-164 '"
      ]
     },
     "execution_count": 33,
     "metadata": {},
     "output_type": "execute_result"
    }
   ],
   "execution_count": 33
  },
  {
   "metadata": {
    "ExecuteTime": {
     "end_time": "2025-04-11T09:50:17.274041Z",
     "start_time": "2025-04-11T09:50:17.270001Z"
    }
   },
   "cell_type": "code",
   "source": [
    "def geocode_all(\n",
    "        ner: str\n",
    ") -> list | None:\n",
    "    if pd.isna(ner) or not ner:\n",
    "        return None\n",
    "    ner_list = ner.split(\", \")\n",
    "    res_list = []\n",
    "    for i in ner_list:\n",
    "        time.sleep(1)\n",
    "        res_list.append(gpd.tools.geocode(i, provider=\"arcgis\"))\n",
    "    return res_list"
   ],
   "id": "6df26ba36f985bd2",
   "outputs": [],
   "execution_count": 33
  },
  {
   "metadata": {},
   "cell_type": "code",
   "outputs": [],
   "execution_count": null,
   "source": "",
   "id": "37f03ec12a190a25"
  },
  {
   "metadata": {
    "ExecuteTime": {
     "end_time": "2025-04-11T09:05:27.636243Z",
     "start_time": "2025-04-11T09:05:27.403127Z"
    }
   },
   "cell_type": "code",
   "source": [
    "df.loc[df[\"NER\"].str.contains(\"\\n\"), \"NER\"] = None\n",
    "df[\"NER\"].replace(\"\", None, inplace=True)"
   ],
   "id": "2577365b9680591e",
   "outputs": [
    {
     "ename": "ValueError",
     "evalue": "Cannot mask with non-boolean array containing NA / NaN values",
     "output_type": "error",
     "traceback": [
      "\u001B[31m---------------------------------------------------------------------------\u001B[39m",
      "\u001B[31mValueError\u001B[39m                                Traceback (most recent call last)",
      "\u001B[36mCell\u001B[39m\u001B[36m \u001B[39m\u001B[32mIn[27]\u001B[39m\u001B[32m, line 1\u001B[39m\n\u001B[32m----> \u001B[39m\u001B[32m1\u001B[39m \u001B[43mdf\u001B[49m\u001B[43m.\u001B[49m\u001B[43mloc\u001B[49m\u001B[43m[\u001B[49m\u001B[43mdf\u001B[49m\u001B[43m[\u001B[49m\u001B[33;43m\"\u001B[39;49m\u001B[33;43mNER\u001B[39;49m\u001B[33;43m\"\u001B[39;49m\u001B[43m]\u001B[49m\u001B[43m.\u001B[49m\u001B[43mstr\u001B[49m\u001B[43m.\u001B[49m\u001B[43mcontains\u001B[49m\u001B[43m(\u001B[49m\u001B[33;43m\"\u001B[39;49m\u001B[38;5;130;43;01m\\n\u001B[39;49;00m\u001B[33;43m\"\u001B[39;49m\u001B[43m)\u001B[49m\u001B[43m,\u001B[49m\u001B[43m \u001B[49m\u001B[33;43m\"\u001B[39;49m\u001B[33;43mNER\u001B[39;49m\u001B[33;43m\"\u001B[39;49m\u001B[43m]\u001B[49m = \u001B[38;5;28;01mNone\u001B[39;00m\n\u001B[32m      2\u001B[39m df[\u001B[33m\"\u001B[39m\u001B[33mNER\u001B[39m\u001B[33m\"\u001B[39m].replace(\u001B[33m\"\u001B[39m\u001B[33m\"\u001B[39m, \u001B[38;5;28;01mNone\u001B[39;00m, inplace=\u001B[38;5;28;01mTrue\u001B[39;00m)\n",
      "\u001B[36mFile \u001B[39m\u001B[32m~\\AppData\\Local\\pypoetry\\Cache\\virtualenvs\\urbanplansassistant-ngDiDSNH-py3.11\\Lib\\site-packages\\pandas\\core\\indexing.py:907\u001B[39m, in \u001B[36m_LocationIndexer.__setitem__\u001B[39m\u001B[34m(self, key, value)\u001B[39m\n\u001B[32m    905\u001B[39m     maybe_callable = com.apply_if_callable(key, \u001B[38;5;28mself\u001B[39m.obj)\n\u001B[32m    906\u001B[39m     key = \u001B[38;5;28mself\u001B[39m._check_deprecated_callable_usage(key, maybe_callable)\n\u001B[32m--> \u001B[39m\u001B[32m907\u001B[39m indexer = \u001B[38;5;28;43mself\u001B[39;49m\u001B[43m.\u001B[49m\u001B[43m_get_setitem_indexer\u001B[49m\u001B[43m(\u001B[49m\u001B[43mkey\u001B[49m\u001B[43m)\u001B[49m\n\u001B[32m    908\u001B[39m \u001B[38;5;28mself\u001B[39m._has_valid_setitem_indexer(key)\n\u001B[32m    910\u001B[39m iloc = \u001B[38;5;28mself\u001B[39m \u001B[38;5;28;01mif\u001B[39;00m \u001B[38;5;28mself\u001B[39m.name == \u001B[33m\"\u001B[39m\u001B[33miloc\u001B[39m\u001B[33m\"\u001B[39m \u001B[38;5;28;01melse\u001B[39;00m \u001B[38;5;28mself\u001B[39m.obj.iloc\n",
      "\u001B[36mFile \u001B[39m\u001B[32m~\\AppData\\Local\\pypoetry\\Cache\\virtualenvs\\urbanplansassistant-ngDiDSNH-py3.11\\Lib\\site-packages\\pandas\\core\\indexing.py:774\u001B[39m, in \u001B[36m_LocationIndexer._get_setitem_indexer\u001B[39m\u001B[34m(self, key)\u001B[39m\n\u001B[32m    771\u001B[39m \u001B[38;5;28;01mif\u001B[39;00m \u001B[38;5;28misinstance\u001B[39m(key, \u001B[38;5;28mtuple\u001B[39m):\n\u001B[32m    772\u001B[39m     \u001B[38;5;28;01mwith\u001B[39;00m suppress(IndexingError):\n\u001B[32m    773\u001B[39m         \u001B[38;5;66;03m# suppress \"Too many indexers\"\u001B[39;00m\n\u001B[32m--> \u001B[39m\u001B[32m774\u001B[39m         \u001B[38;5;28;01mreturn\u001B[39;00m \u001B[38;5;28;43mself\u001B[39;49m\u001B[43m.\u001B[49m\u001B[43m_convert_tuple\u001B[49m\u001B[43m(\u001B[49m\u001B[43mkey\u001B[49m\u001B[43m)\u001B[49m\n\u001B[32m    776\u001B[39m \u001B[38;5;28;01mif\u001B[39;00m \u001B[38;5;28misinstance\u001B[39m(key, \u001B[38;5;28mrange\u001B[39m):\n\u001B[32m    777\u001B[39m     \u001B[38;5;66;03m# GH#45479 test_loc_setitem_range_key\u001B[39;00m\n\u001B[32m    778\u001B[39m     key = \u001B[38;5;28mlist\u001B[39m(key)\n",
      "\u001B[36mFile \u001B[39m\u001B[32m~\\AppData\\Local\\pypoetry\\Cache\\virtualenvs\\urbanplansassistant-ngDiDSNH-py3.11\\Lib\\site-packages\\pandas\\core\\indexing.py:989\u001B[39m, in \u001B[36m_LocationIndexer._convert_tuple\u001B[39m\u001B[34m(self, key)\u001B[39m\n\u001B[32m    985\u001B[39m \u001B[38;5;129m@final\u001B[39m\n\u001B[32m    986\u001B[39m \u001B[38;5;28;01mdef\u001B[39;00m\u001B[38;5;250m \u001B[39m\u001B[34m_convert_tuple\u001B[39m(\u001B[38;5;28mself\u001B[39m, key: \u001B[38;5;28mtuple\u001B[39m) -> \u001B[38;5;28mtuple\u001B[39m:\n\u001B[32m    987\u001B[39m     \u001B[38;5;66;03m# Note: we assume _tupleize_axis_indexer has been called, if necessary.\u001B[39;00m\n\u001B[32m    988\u001B[39m     \u001B[38;5;28mself\u001B[39m._validate_key_length(key)\n\u001B[32m--> \u001B[39m\u001B[32m989\u001B[39m     keyidx = \u001B[43m[\u001B[49m\u001B[38;5;28;43mself\u001B[39;49m\u001B[43m.\u001B[49m\u001B[43m_convert_to_indexer\u001B[49m\u001B[43m(\u001B[49m\u001B[43mk\u001B[49m\u001B[43m,\u001B[49m\u001B[43m \u001B[49m\u001B[43maxis\u001B[49m\u001B[43m=\u001B[49m\u001B[43mi\u001B[49m\u001B[43m)\u001B[49m\u001B[43m \u001B[49m\u001B[38;5;28;43;01mfor\u001B[39;49;00m\u001B[43m \u001B[49m\u001B[43mi\u001B[49m\u001B[43m,\u001B[49m\u001B[43m \u001B[49m\u001B[43mk\u001B[49m\u001B[43m \u001B[49m\u001B[38;5;129;43;01min\u001B[39;49;00m\u001B[43m \u001B[49m\u001B[38;5;28;43menumerate\u001B[39;49m\u001B[43m(\u001B[49m\u001B[43mkey\u001B[49m\u001B[43m)\u001B[49m\u001B[43m]\u001B[49m\n\u001B[32m    990\u001B[39m     \u001B[38;5;28;01mreturn\u001B[39;00m \u001B[38;5;28mtuple\u001B[39m(keyidx)\n",
      "\u001B[36mFile \u001B[39m\u001B[32m~\\AppData\\Local\\pypoetry\\Cache\\virtualenvs\\urbanplansassistant-ngDiDSNH-py3.11\\Lib\\site-packages\\pandas\\core\\indexing.py:989\u001B[39m, in \u001B[36m<listcomp>\u001B[39m\u001B[34m(.0)\u001B[39m\n\u001B[32m    985\u001B[39m \u001B[38;5;129m@final\u001B[39m\n\u001B[32m    986\u001B[39m \u001B[38;5;28;01mdef\u001B[39;00m\u001B[38;5;250m \u001B[39m\u001B[34m_convert_tuple\u001B[39m(\u001B[38;5;28mself\u001B[39m, key: \u001B[38;5;28mtuple\u001B[39m) -> \u001B[38;5;28mtuple\u001B[39m:\n\u001B[32m    987\u001B[39m     \u001B[38;5;66;03m# Note: we assume _tupleize_axis_indexer has been called, if necessary.\u001B[39;00m\n\u001B[32m    988\u001B[39m     \u001B[38;5;28mself\u001B[39m._validate_key_length(key)\n\u001B[32m--> \u001B[39m\u001B[32m989\u001B[39m     keyidx = [\u001B[38;5;28;43mself\u001B[39;49m\u001B[43m.\u001B[49m\u001B[43m_convert_to_indexer\u001B[49m\u001B[43m(\u001B[49m\u001B[43mk\u001B[49m\u001B[43m,\u001B[49m\u001B[43m \u001B[49m\u001B[43maxis\u001B[49m\u001B[43m=\u001B[49m\u001B[43mi\u001B[49m\u001B[43m)\u001B[49m \u001B[38;5;28;01mfor\u001B[39;00m i, k \u001B[38;5;129;01min\u001B[39;00m \u001B[38;5;28menumerate\u001B[39m(key)]\n\u001B[32m    990\u001B[39m     \u001B[38;5;28;01mreturn\u001B[39;00m \u001B[38;5;28mtuple\u001B[39m(keyidx)\n",
      "\u001B[36mFile \u001B[39m\u001B[32m~\\AppData\\Local\\pypoetry\\Cache\\virtualenvs\\urbanplansassistant-ngDiDSNH-py3.11\\Lib\\site-packages\\pandas\\core\\indexing.py:1518\u001B[39m, in \u001B[36m_LocIndexer._convert_to_indexer\u001B[39m\u001B[34m(self, key, axis)\u001B[39m\n\u001B[32m   1515\u001B[39m \u001B[38;5;28;01mif\u001B[39;00m is_iterator(key):\n\u001B[32m   1516\u001B[39m     key = \u001B[38;5;28mlist\u001B[39m(key)\n\u001B[32m-> \u001B[39m\u001B[32m1518\u001B[39m \u001B[38;5;28;01mif\u001B[39;00m \u001B[43mcom\u001B[49m\u001B[43m.\u001B[49m\u001B[43mis_bool_indexer\u001B[49m\u001B[43m(\u001B[49m\u001B[43mkey\u001B[49m\u001B[43m)\u001B[49m:\n\u001B[32m   1519\u001B[39m     key = check_bool_indexer(labels, key)\n\u001B[32m   1520\u001B[39m     \u001B[38;5;28;01mreturn\u001B[39;00m key\n",
      "\u001B[36mFile \u001B[39m\u001B[32m~\\AppData\\Local\\pypoetry\\Cache\\virtualenvs\\urbanplansassistant-ngDiDSNH-py3.11\\Lib\\site-packages\\pandas\\core\\common.py:136\u001B[39m, in \u001B[36mis_bool_indexer\u001B[39m\u001B[34m(key)\u001B[39m\n\u001B[32m    132\u001B[39m     na_msg = \u001B[33m\"\u001B[39m\u001B[33mCannot mask with non-boolean array containing NA / NaN values\u001B[39m\u001B[33m\"\u001B[39m\n\u001B[32m    133\u001B[39m     \u001B[38;5;28;01mif\u001B[39;00m lib.is_bool_array(key_array, skipna=\u001B[38;5;28;01mTrue\u001B[39;00m):\n\u001B[32m    134\u001B[39m         \u001B[38;5;66;03m# Don't raise on e.g. [\"A\", \"B\", np.nan], see\u001B[39;00m\n\u001B[32m    135\u001B[39m         \u001B[38;5;66;03m#  test_loc_getitem_list_of_labels_categoricalindex_with_na\u001B[39;00m\n\u001B[32m--> \u001B[39m\u001B[32m136\u001B[39m         \u001B[38;5;28;01mraise\u001B[39;00m \u001B[38;5;167;01mValueError\u001B[39;00m(na_msg)\n\u001B[32m    137\u001B[39m     \u001B[38;5;28;01mreturn\u001B[39;00m \u001B[38;5;28;01mFalse\u001B[39;00m\n\u001B[32m    138\u001B[39m \u001B[38;5;28;01mreturn\u001B[39;00m \u001B[38;5;28;01mTrue\u001B[39;00m\n",
      "\u001B[31mValueError\u001B[39m: Cannot mask with non-boolean array containing NA / NaN values"
     ]
    }
   ],
   "execution_count": 27
  },
  {
   "metadata": {
    "ExecuteTime": {
     "end_time": "2025-04-11T09:05:32.903577Z",
     "start_time": "2025-04-11T09:05:32.899239Z"
    }
   },
   "cell_type": "code",
   "source": "df[\"NER\"]",
   "id": "ffdf170edbdf759d",
   "outputs": [
    {
     "data": {
      "text/plain": [
       "0                                                 None\n",
       "1                                                 None\n",
       "2                                                   ''\n",
       "3       Поскольку текст не был предоставлен, ответ: ''\n",
       "4                                                   ''\n",
       "                             ...                      \n",
       "1260                                   Санкт-Петербург\n",
       "1261                                   Санкт-Петербург\n",
       "1262                                   Санкт-Петербург\n",
       "1263             Санкт-Петербург, Российская Федерация\n",
       "1264                                   Санкт-Петербург\n",
       "Name: NER, Length: 1265, dtype: object"
      ]
     },
     "execution_count": 28,
     "metadata": {},
     "output_type": "execute_result"
    }
   ],
   "execution_count": 28
  },
  {
   "metadata": {
    "ExecuteTime": {
     "end_time": "2025-04-11T10:23:35.620660Z",
     "start_time": "2025-04-11T09:50:20.595018Z"
    }
   },
   "cell_type": "code",
   "source": "df[\"addresses\"] = df[\"NER\"].progress_apply(geocode_all)",
   "id": "f91d405c78ddc978",
   "outputs": [
    {
     "data": {
      "text/plain": [
       "  0%|          | 0/1265 [00:00<?, ?it/s]"
      ],
      "application/vnd.jupyter.widget-view+json": {
       "version_major": 2,
       "version_minor": 0,
       "model_id": "75b912657ac44ac5a70f9abce828773e"
      }
     },
     "metadata": {},
     "output_type": "display_data"
    }
   ],
   "execution_count": 34
  },
  {
   "metadata": {
    "ExecuteTime": {
     "end_time": "2025-04-11T10:23:47.047886Z",
     "start_time": "2025-04-11T10:23:47.039246Z"
    }
   },
   "cell_type": "code",
   "source": "df",
   "id": "1d178288e8bbdda6",
   "outputs": [
    {
     "data": {
      "text/plain": [
       "                                                   text  \\\n",
       "0                                            ПРИЛОЖЕНИЕ   \n",
       "1                             к Закону Санкт-Петербурга   \n",
       "2                                          \"О Стратегии   \n",
       "3                              социально-экономического   \n",
       "4                             развития Санкт-Петербурга   \n",
       "...                                                 ...   \n",
       "1260  улучшение инвестиционного климата Санкт-Петерб...   \n",
       "1261  Исходя из оценки ретроспективных данных о взаи...   \n",
       "1262  Реализация Стратегии 2035 осуществляется посре...   \n",
       "1263  Государственные программы Санкт-Петербурга раз...   \n",
       "1264  Перечень государственных программ Санкт-Петерб...   \n",
       "\n",
       "                                                  title  \\\n",
       "0                                                         \n",
       "1                                                         \n",
       "2                                                         \n",
       "3                                                         \n",
       "4                                                         \n",
       "...                                                 ...   \n",
       "1260  10. Оценка финансовых ресурсов, необходимых дл...   \n",
       "1261  10. Оценка финансовых ресурсов, необходимых дл...   \n",
       "1262  11. Информация о государственных программахСан...   \n",
       "1263  11. Информация о государственных программахСан...   \n",
       "1264  11. Информация о государственных программахСан...   \n",
       "\n",
       "                                                 NER                 addresses  \n",
       "0                                               None                      None  \n",
       "1                                               None                      None  \n",
       "2                                                 ''              [[geometry]]  \n",
       "3     Поскольку текст не был предоставлен, ответ: ''  [[geometry], [geometry]]  \n",
       "4                                                 ''              [[geometry]]  \n",
       "...                                              ...                       ...  \n",
       "1260                                 Санкт-Петербург              [[geometry]]  \n",
       "1261                                 Санкт-Петербург              [[geometry]]  \n",
       "1262                                 Санкт-Петербург              [[geometry]]  \n",
       "1263           Санкт-Петербург, Российская Федерация  [[geometry], [geometry]]  \n",
       "1264                                 Санкт-Петербург              [[geometry]]  \n",
       "\n",
       "[1265 rows x 4 columns]"
      ],
      "text/html": [
       "<div>\n",
       "<style scoped>\n",
       "    .dataframe tbody tr th:only-of-type {\n",
       "        vertical-align: middle;\n",
       "    }\n",
       "\n",
       "    .dataframe tbody tr th {\n",
       "        vertical-align: top;\n",
       "    }\n",
       "\n",
       "    .dataframe thead th {\n",
       "        text-align: right;\n",
       "    }\n",
       "</style>\n",
       "<table border=\"1\" class=\"dataframe\">\n",
       "  <thead>\n",
       "    <tr style=\"text-align: right;\">\n",
       "      <th></th>\n",
       "      <th>text</th>\n",
       "      <th>title</th>\n",
       "      <th>NER</th>\n",
       "      <th>addresses</th>\n",
       "    </tr>\n",
       "  </thead>\n",
       "  <tbody>\n",
       "    <tr>\n",
       "      <th>0</th>\n",
       "      <td>ПРИЛОЖЕНИЕ</td>\n",
       "      <td></td>\n",
       "      <td>None</td>\n",
       "      <td>None</td>\n",
       "    </tr>\n",
       "    <tr>\n",
       "      <th>1</th>\n",
       "      <td>к Закону Санкт-Петербурга</td>\n",
       "      <td></td>\n",
       "      <td>None</td>\n",
       "      <td>None</td>\n",
       "    </tr>\n",
       "    <tr>\n",
       "      <th>2</th>\n",
       "      <td>\"О Стратегии</td>\n",
       "      <td></td>\n",
       "      <td>''</td>\n",
       "      <td>[[geometry]]</td>\n",
       "    </tr>\n",
       "    <tr>\n",
       "      <th>3</th>\n",
       "      <td>социально-экономического</td>\n",
       "      <td></td>\n",
       "      <td>Поскольку текст не был предоставлен, ответ: ''</td>\n",
       "      <td>[[geometry], [geometry]]</td>\n",
       "    </tr>\n",
       "    <tr>\n",
       "      <th>4</th>\n",
       "      <td>развития Санкт-Петербурга</td>\n",
       "      <td></td>\n",
       "      <td>''</td>\n",
       "      <td>[[geometry]]</td>\n",
       "    </tr>\n",
       "    <tr>\n",
       "      <th>...</th>\n",
       "      <td>...</td>\n",
       "      <td>...</td>\n",
       "      <td>...</td>\n",
       "      <td>...</td>\n",
       "    </tr>\n",
       "    <tr>\n",
       "      <th>1260</th>\n",
       "      <td>улучшение инвестиционного климата Санкт-Петерб...</td>\n",
       "      <td>10. Оценка финансовых ресурсов, необходимых дл...</td>\n",
       "      <td>Санкт-Петербург</td>\n",
       "      <td>[[geometry]]</td>\n",
       "    </tr>\n",
       "    <tr>\n",
       "      <th>1261</th>\n",
       "      <td>Исходя из оценки ретроспективных данных о взаи...</td>\n",
       "      <td>10. Оценка финансовых ресурсов, необходимых дл...</td>\n",
       "      <td>Санкт-Петербург</td>\n",
       "      <td>[[geometry]]</td>\n",
       "    </tr>\n",
       "    <tr>\n",
       "      <th>1262</th>\n",
       "      <td>Реализация Стратегии 2035 осуществляется посре...</td>\n",
       "      <td>11. Информация о государственных программахСан...</td>\n",
       "      <td>Санкт-Петербург</td>\n",
       "      <td>[[geometry]]</td>\n",
       "    </tr>\n",
       "    <tr>\n",
       "      <th>1263</th>\n",
       "      <td>Государственные программы Санкт-Петербурга раз...</td>\n",
       "      <td>11. Информация о государственных программахСан...</td>\n",
       "      <td>Санкт-Петербург, Российская Федерация</td>\n",
       "      <td>[[geometry], [geometry]]</td>\n",
       "    </tr>\n",
       "    <tr>\n",
       "      <th>1264</th>\n",
       "      <td>Перечень государственных программ Санкт-Петерб...</td>\n",
       "      <td>11. Информация о государственных программахСан...</td>\n",
       "      <td>Санкт-Петербург</td>\n",
       "      <td>[[geometry]]</td>\n",
       "    </tr>\n",
       "  </tbody>\n",
       "</table>\n",
       "<p>1265 rows × 4 columns</p>\n",
       "</div>"
      ]
     },
     "execution_count": 36,
     "metadata": {},
     "output_type": "execute_result"
    }
   ],
   "execution_count": 36
  },
  {
   "metadata": {
    "ExecuteTime": {
     "end_time": "2025-04-11T11:05:49.640062Z",
     "start_time": "2025-04-11T11:05:49.554393Z"
    }
   },
   "cell_type": "code",
   "source": [
    "from shapely import to_wkt\n",
    "from shapely.geometry import MultiPoint\n",
    "\n",
    "def dump_to_wkt(geometry_list: list) -> MultiPoint | None:\n",
    "    try:\n",
    "        if geometry_list:\n",
    "            res = [i[\"geometry\"].iloc[0] for i in geometry_list if i[\"address\"].iloc[0]]\n",
    "            if len(res) > 1:\n",
    "                return MultiPoint(points=res)\n",
    "            elif len(res) == 1:\n",
    "                return res[0]\n",
    "            return None\n",
    "    except Exception as e:\n",
    "        print(e)\n",
    "        print(geometry_list)\n",
    "        print(res)\n",
    "df[\"geometry\"] = df[\"addresses\"].apply(dump_to_wkt)"
   ],
   "id": "364ea5be65354398",
   "outputs": [],
   "execution_count": 60
  },
  {
   "metadata": {
    "ExecuteTime": {
     "end_time": "2025-04-11T11:07:12.246161Z",
     "start_time": "2025-04-11T11:07:12.213523Z"
    }
   },
   "cell_type": "code",
   "source": [
    "gdf = gpd.GeoDataFrame(df, geometry=\"geometry\", crs=4326)\n",
    "gdf"
   ],
   "id": "30d4e28c1c1f0d5e",
   "outputs": [
    {
     "data": {
      "text/plain": [
       "                                                   text  \\\n",
       "0                                            ПРИЛОЖЕНИЕ   \n",
       "1                             к Закону Санкт-Петербурга   \n",
       "2                                          \"О Стратегии   \n",
       "3                              социально-экономического   \n",
       "4                             развития Санкт-Петербурга   \n",
       "...                                                 ...   \n",
       "1260  улучшение инвестиционного климата Санкт-Петерб...   \n",
       "1261  Исходя из оценки ретроспективных данных о взаи...   \n",
       "1262  Реализация Стратегии 2035 осуществляется посре...   \n",
       "1263  Государственные программы Санкт-Петербурга раз...   \n",
       "1264  Перечень государственных программ Санкт-Петерб...   \n",
       "\n",
       "                                                  title  \\\n",
       "0                                                         \n",
       "1                                                         \n",
       "2                                                         \n",
       "3                                                         \n",
       "4                                                         \n",
       "...                                                 ...   \n",
       "1260  10. Оценка финансовых ресурсов, необходимых дл...   \n",
       "1261  10. Оценка финансовых ресурсов, необходимых дл...   \n",
       "1262  11. Информация о государственных программахСан...   \n",
       "1263  11. Информация о государственных программахСан...   \n",
       "1264  11. Информация о государственных программахСан...   \n",
       "\n",
       "                                                 NER  \\\n",
       "0                                               None   \n",
       "1                                               None   \n",
       "2                                                 ''   \n",
       "3     Поскольку текст не был предоставлен, ответ: ''   \n",
       "4                                                 ''   \n",
       "...                                              ...   \n",
       "1260                                 Санкт-Петербург   \n",
       "1261                                 Санкт-Петербург   \n",
       "1262                                 Санкт-Петербург   \n",
       "1263           Санкт-Петербург, Российская Федерация   \n",
       "1264                                 Санкт-Петербург   \n",
       "\n",
       "                     addresses  \\\n",
       "0                         None   \n",
       "1                         None   \n",
       "2                 [[geometry]]   \n",
       "3     [[geometry], [geometry]]   \n",
       "4                 [[geometry]]   \n",
       "...                        ...   \n",
       "1260              [[geometry]]   \n",
       "1261              [[geometry]]   \n",
       "1262              [[geometry]]   \n",
       "1263  [[geometry], [geometry]]   \n",
       "1264              [[geometry]]   \n",
       "\n",
       "                                               geometry  \n",
       "0                                                  None  \n",
       "1                                                  None  \n",
       "2                                                  None  \n",
       "3                             POINT (129.71138 62.0176)  \n",
       "4                                                  None  \n",
       "...                                                 ...  \n",
       "1260                          POINT (30.31248 59.93848)  \n",
       "1261                          POINT (30.31248 59.93848)  \n",
       "1262                          POINT (30.31248 59.93848)  \n",
       "1263  MULTIPOINT ((30.31248 59.93848), (96.80537 61....  \n",
       "1264                          POINT (30.31248 59.93848)  \n",
       "\n",
       "[1265 rows x 5 columns]"
      ],
      "text/html": [
       "<div>\n",
       "<style scoped>\n",
       "    .dataframe tbody tr th:only-of-type {\n",
       "        vertical-align: middle;\n",
       "    }\n",
       "\n",
       "    .dataframe tbody tr th {\n",
       "        vertical-align: top;\n",
       "    }\n",
       "\n",
       "    .dataframe thead th {\n",
       "        text-align: right;\n",
       "    }\n",
       "</style>\n",
       "<table border=\"1\" class=\"dataframe\">\n",
       "  <thead>\n",
       "    <tr style=\"text-align: right;\">\n",
       "      <th></th>\n",
       "      <th>text</th>\n",
       "      <th>title</th>\n",
       "      <th>NER</th>\n",
       "      <th>addresses</th>\n",
       "      <th>geometry</th>\n",
       "    </tr>\n",
       "  </thead>\n",
       "  <tbody>\n",
       "    <tr>\n",
       "      <th>0</th>\n",
       "      <td>ПРИЛОЖЕНИЕ</td>\n",
       "      <td></td>\n",
       "      <td>None</td>\n",
       "      <td>None</td>\n",
       "      <td>None</td>\n",
       "    </tr>\n",
       "    <tr>\n",
       "      <th>1</th>\n",
       "      <td>к Закону Санкт-Петербурга</td>\n",
       "      <td></td>\n",
       "      <td>None</td>\n",
       "      <td>None</td>\n",
       "      <td>None</td>\n",
       "    </tr>\n",
       "    <tr>\n",
       "      <th>2</th>\n",
       "      <td>\"О Стратегии</td>\n",
       "      <td></td>\n",
       "      <td>''</td>\n",
       "      <td>[[geometry]]</td>\n",
       "      <td>None</td>\n",
       "    </tr>\n",
       "    <tr>\n",
       "      <th>3</th>\n",
       "      <td>социально-экономического</td>\n",
       "      <td></td>\n",
       "      <td>Поскольку текст не был предоставлен, ответ: ''</td>\n",
       "      <td>[[geometry], [geometry]]</td>\n",
       "      <td>POINT (129.71138 62.0176)</td>\n",
       "    </tr>\n",
       "    <tr>\n",
       "      <th>4</th>\n",
       "      <td>развития Санкт-Петербурга</td>\n",
       "      <td></td>\n",
       "      <td>''</td>\n",
       "      <td>[[geometry]]</td>\n",
       "      <td>None</td>\n",
       "    </tr>\n",
       "    <tr>\n",
       "      <th>...</th>\n",
       "      <td>...</td>\n",
       "      <td>...</td>\n",
       "      <td>...</td>\n",
       "      <td>...</td>\n",
       "      <td>...</td>\n",
       "    </tr>\n",
       "    <tr>\n",
       "      <th>1260</th>\n",
       "      <td>улучшение инвестиционного климата Санкт-Петерб...</td>\n",
       "      <td>10. Оценка финансовых ресурсов, необходимых дл...</td>\n",
       "      <td>Санкт-Петербург</td>\n",
       "      <td>[[geometry]]</td>\n",
       "      <td>POINT (30.31248 59.93848)</td>\n",
       "    </tr>\n",
       "    <tr>\n",
       "      <th>1261</th>\n",
       "      <td>Исходя из оценки ретроспективных данных о взаи...</td>\n",
       "      <td>10. Оценка финансовых ресурсов, необходимых дл...</td>\n",
       "      <td>Санкт-Петербург</td>\n",
       "      <td>[[geometry]]</td>\n",
       "      <td>POINT (30.31248 59.93848)</td>\n",
       "    </tr>\n",
       "    <tr>\n",
       "      <th>1262</th>\n",
       "      <td>Реализация Стратегии 2035 осуществляется посре...</td>\n",
       "      <td>11. Информация о государственных программахСан...</td>\n",
       "      <td>Санкт-Петербург</td>\n",
       "      <td>[[geometry]]</td>\n",
       "      <td>POINT (30.31248 59.93848)</td>\n",
       "    </tr>\n",
       "    <tr>\n",
       "      <th>1263</th>\n",
       "      <td>Государственные программы Санкт-Петербурга раз...</td>\n",
       "      <td>11. Информация о государственных программахСан...</td>\n",
       "      <td>Санкт-Петербург, Российская Федерация</td>\n",
       "      <td>[[geometry], [geometry]]</td>\n",
       "      <td>MULTIPOINT ((30.31248 59.93848), (96.80537 61....</td>\n",
       "    </tr>\n",
       "    <tr>\n",
       "      <th>1264</th>\n",
       "      <td>Перечень государственных программ Санкт-Петерб...</td>\n",
       "      <td>11. Информация о государственных программахСан...</td>\n",
       "      <td>Санкт-Петербург</td>\n",
       "      <td>[[geometry]]</td>\n",
       "      <td>POINT (30.31248 59.93848)</td>\n",
       "    </tr>\n",
       "  </tbody>\n",
       "</table>\n",
       "<p>1265 rows × 5 columns</p>\n",
       "</div>"
      ]
     },
     "execution_count": 63,
     "metadata": {},
     "output_type": "execute_result"
    }
   ],
   "execution_count": 63
  },
  {
   "metadata": {},
   "cell_type": "code",
   "outputs": [],
   "execution_count": null,
   "source": "",
   "id": "c80d542e25486fc0"
  }
 ],
 "metadata": {
  "kernelspec": {
   "display_name": "Python 3",
   "language": "python",
   "name": "python3"
  },
  "language_info": {
   "codemirror_mode": {
    "name": "ipython",
    "version": 2
   },
   "file_extension": ".py",
   "mimetype": "text/x-python",
   "name": "python",
   "nbconvert_exporter": "python",
   "pygments_lexer": "ipython2",
   "version": "2.7.6"
  }
 },
 "nbformat": 4,
 "nbformat_minor": 5
}
