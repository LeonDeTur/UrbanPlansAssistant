{
 "cells": [
  {
   "cell_type": "code",
   "id": "initial_id",
   "metadata": {
    "collapsed": true,
    "ExecuteTime": {
     "end_time": "2025-04-03T12:28:49.857842Z",
     "start_time": "2025-04-03T12:28:49.854720Z"
    }
   },
   "source": [
    "from markitdown import MarkItDown\n",
    "import requests\n",
    "import base64\n",
    "import json"
   ],
   "outputs": [],
   "execution_count": 5
  },
  {
   "metadata": {
    "ExecuteTime": {
     "end_time": "2025-04-03T12:30:02.363729Z",
     "start_time": "2025-04-03T12:30:02.360223Z"
    }
   },
   "cell_type": "code",
   "source": [
    "client_cert = \"20250129_IDU_ADGX_LeonTur.crt\"\n",
    "ca_cert = \"onti-ca.crt\"\n",
    "client_key = \"DECFILE\""
   ],
   "id": "9c3319e92cfd393e",
   "outputs": [],
   "execution_count": 7
  },
  {
   "metadata": {
    "ExecuteTime": {
     "end_time": "2025-04-03T13:33:54.287113Z",
     "start_time": "2025-04-03T13:33:54.280075Z"
    }
   },
   "cell_type": "code",
   "source": [
    "class CustomLlamaClient:\n",
    "\n",
    "    def __init__(\n",
    "            self,\n",
    "            model: str,\n",
    "            base_url: str,\n",
    "            client_cert: str,\n",
    "            ca_cert: str,\n",
    "            client_key: str,\n",
    "    ):\n",
    "        self.model = model\n",
    "        self.base_url = f\"{base_url}/api\"\n",
    "        self.client_cert = client_cert\n",
    "        self.ca_cert = ca_cert\n",
    "        self.client_key = client_key\n",
    "        self.headers = {\n",
    "    \"Content-Type\": \"application/json\"\n",
    "}\n",
    "\n",
    "    def generate(\n",
    "            self,\n",
    "            prompt: str,\n",
    "            images: list\n",
    "    ):\n",
    "\n",
    "        data = {\n",
    "                \"model\": self.model,\n",
    "                \"prompt\": prompt,\n",
    "                \"images\": images\n",
    "            }\n",
    "        response = requests.get(\n",
    "            url=f\"{self.base_url}/generate\",\n",
    "            headers=self.headers,\n",
    "            data=json.dumps(data),\n",
    "            cert=(self.client_cert, self.client_key),\n",
    "            verify=ca_cert\n",
    "        )\n",
    "        print(response.status_code)\n",
    "        return response"
   ],
   "id": "d296d0d2828a60a7",
   "outputs": [],
   "execution_count": 39
  },
  {
   "metadata": {
    "ExecuteTime": {
     "end_time": "2025-04-03T13:33:58.795006Z",
     "start_time": "2025-04-03T13:33:58.791495Z"
    }
   },
   "cell_type": "code",
   "source": [
    "idu_llama_client = CustomLlamaClient(\n",
    "    model=\"llama3.3\",\n",
    "    base_url=\"http://a.dgx:11434\",\n",
    "    client_cert=client_cert,\n",
    "    ca_cert=ca_cert,\n",
    "    client_key=client_key,\n",
    ")"
   ],
   "id": "550885dced6c9266",
   "outputs": [],
   "execution_count": 40
  },
  {
   "metadata": {
    "ExecuteTime": {
     "end_time": "2025-04-03T13:34:20.593177Z",
     "start_time": "2025-04-03T13:34:20.559550Z"
    }
   },
   "cell_type": "code",
   "source": [
    "with open(\"putin.jpg\", \"rb\") as f:\n",
    "    encoded_image = str(base64.b64encode(f.read()))\n",
    "    answer = idu_llama_client.generate(\n",
    "        prompt=\"Опиши изображение\",\n",
    "        images=[encoded_image],\n",
    "    )\n",
    "    print(answer)"
   ],
   "id": "82afdbeb569970ab",
   "outputs": [
    {
     "name": "stdout",
     "output_type": "stream",
     "text": [
      "404\n",
      "<Response [404]>\n"
     ]
    }
   ],
   "execution_count": 42
  },
  {
   "metadata": {},
   "cell_type": "code",
   "outputs": [],
   "execution_count": null,
   "source": "md = MarkItDown(llm_client=idu_llama_client)",
   "id": "3f5e60fd8a1bf8ec"
  },
  {
   "metadata": {
    "ExecuteTime": {
     "end_time": "2025-04-03T13:54:08.487058Z",
     "start_time": "2025-04-03T13:54:08.482027Z"
    }
   },
   "cell_type": "code",
   "source": [
    "import base64\n",
    "from io import BytesIO\n",
    "from PIL import Image  # Требуется установка Pillow\n",
    "\n",
    "def image_to_base64(image_path: str, format: str = \"PNG\") -> str:\n",
    "    # Открываем изображение и конвертируем в байты\n",
    "    with Image.open(image_path) as img:\n",
    "        buffered = BytesIO()\n",
    "        img.save(buffered, format=format)\n",
    "        return base64.b64encode(buffered.getvalue()).decode(\"utf-8\")"
   ],
   "id": "a0d4c62869e7129a",
   "outputs": [],
   "execution_count": 52
  },
  {
   "metadata": {
    "ExecuteTime": {
     "end_time": "2025-04-03T14:18:04.622678Z",
     "start_time": "2025-04-03T14:17:58.176197Z"
    }
   },
   "cell_type": "code",
   "source": [
    "import json\n",
    "\n",
    "url = \"http://a.dgx:11434/api/generate\"\n",
    "\n",
    "# Данные запроса\n",
    "headers = {\n",
    "    \"Content-Type\": \"application/json\"\n",
    "}\n",
    "image_base64 = image_to_base64(\"pzz.jpg\", \"JPEG\")\n",
    "# payload = {\n",
    "#     \"image_data\": {\n",
    "#         \"format\": \"jpg\",\n",
    "#         \"content\": image_base64\n",
    "#     },\n",
    "#     \"metadata\": {\n",
    "#         \"description\": \"Пример изображения\",\n",
    "#         \"source\": \"mobile_app\"\n",
    "#     }\n",
    "# }\n",
    "\n",
    "data = {\n",
    "    \"model\": \"llava:34b\",\n",
    "    \"prompt\": \"Прочитай что написано на изображении и скажи название картинки исходя из того, что на ней написано\",\n",
    "    \"images\": [image_base64],\n",
    "    \"stream\": False,\n",
    "}\n",
    "\n",
    "with open(\"pzz.jpg\", \"rb\") as f:\n",
    "    encoded_image = str(base64.b64encode(f.read()))\n",
    "    with requests.post(\n",
    "        url,\n",
    "        headers=headers,\n",
    "        data=json.dumps(data),\n",
    "        cert=(client_cert, client_key),\n",
    "        verify=ca_cert,\n",
    "        stream=True) as response:\n",
    "        print(response.text)"
   ],
   "id": "1735b9a4ee2b40c3",
   "outputs": [
    {
     "name": "stdout",
     "output_type": "stream",
     "text": [
      "{\"model\":\"llava:34b\",\"created_at\":\"2025-04-03T14:18:04.491106804Z\",\"response\":\"Картинка не отображается. Чтобы выслать картинку, используйте приложения для электронной почты или социальных сетей, где можно загрузить изображение. После того как я увижу изображение, я смогу дать вам информацию о том, что на нем написано и о том, что это такое.\",\"done\":true,\"done_reason\":\"stop\",\"context\":[1581,59705,622,59593,5858,46826,10707,144,7,59568,144,59666,59705,622,59593,5858,46826,3903,144,59653,5947,59594,77,59651,144,144,54201,8303,1799,60338,18925,1760,1690,39632,2353,1690,5916,18792,1695,8336,1639,59658,1934,1548,2373,9358,1690,19919,6471,6584,59699,3504,59675,2912,1934,59716,39411,59956,5916,9953,6259,97,18925,1760,1690,7760,60338,1690,39632,2353,7,59568,144,59666,59705,622,59593,5858,46826,765,13611,144,60758,8529,3504,59675,2373,7760,2095,1760,31700,12682,21746,23915,98,22811,1760,60099,61775,1949,61775,52785,38549,6584,59699,3504,59675,15888,97,1934,59716,21040,61496,59906,60007,60338,2012,8696,30888,5548,2661,8525,59568,63821,43189,19518,59675,2353,60338,3372,60156,59679,61775,21864,30050,29088,61496,57225,3885,2012,60338,97,3072,5481,12950,46570,3629,59966,7141,6314,38549,5916,18792,1695,44173,98,15497,39650,9953,6259,6584,59787,23928,6867,4236,60367,60007,5916,18792,1695,44173,97,23928,1548,8908,23822,6903,38549,50742,59893,18470,31664,4351,3602,60998,2095,9953,59893,97,18925,1760,1690,7760,59893,1690,39632,2353,1934,2095,9953,59893,97,18925,1760,59568,63821,1760,17746,2631,59669,98],\"total_duration\":6299657618,\"load_duration\":172627906,\"prompt_eval_duration\":1641426000,\"eval_count\":130,\"eval_duration\":4366931000}\n"
     ]
    }
   ],
   "execution_count": 59
  },
  {
   "metadata": {},
   "cell_type": "code",
   "outputs": [],
   "execution_count": null,
   "source": "",
   "id": "f0be28eb7eab7d71"
  }
 ],
 "metadata": {
  "kernelspec": {
   "display_name": "Python 3",
   "language": "python",
   "name": "python3"
  },
  "language_info": {
   "codemirror_mode": {
    "name": "ipython",
    "version": 2
   },
   "file_extension": ".py",
   "mimetype": "text/x-python",
   "name": "python",
   "nbconvert_exporter": "python",
   "pygments_lexer": "ipython2",
   "version": "2.7.6"
  }
 },
 "nbformat": 4,
 "nbformat_minor": 5
}
