{
 "cells": [
  {
   "cell_type": "code",
   "id": "initial_id",
   "metadata": {
    "collapsed": true,
    "ExecuteTime": {
     "end_time": "2025-04-09T18:28:55.543200Z",
     "start_time": "2025-04-09T18:28:55.539201Z"
    }
   },
   "source": "from docx import Document",
   "outputs": [],
   "execution_count": 7
  },
  {
   "metadata": {
    "ExecuteTime": {
     "end_time": "2025-04-09T18:22:02.846121Z",
     "start_time": "2025-04-09T18:22:02.831222Z"
    }
   },
   "cell_type": "code",
   "source": "test_doc = Document(\"стратегия_2035.docx\")",
   "id": "c32374690fb16383",
   "outputs": [],
   "execution_count": 2
  },
  {
   "metadata": {
    "ExecuteTime": {
     "end_time": "2025-04-09T18:27:42.299530Z",
     "start_time": "2025-04-09T18:27:42.228325Z"
    }
   },
   "cell_type": "code",
   "source": [
    "structure_dict = {}\n",
    "current_par = []\n",
    "switcher = False\n",
    "privios_par = None\n",
    "for paragraph in test_doc.paragraphs:\n",
    "    if paragraph.style.name == \"ConsPlusTitle\":\n",
    "        if switcher:\n",
    "            current_par = [paragraph.text]\n",
    "            switcher = False\n",
    "        else:\n",
    "            current_par.append(paragraph.text)\n",
    "    else:\n",
    "        if not switcher:\n",
    "            switcher = True\n",
    "        structure_dict[paragraph.text] = \"\".join(current_par)\n",
    "\n"
   ],
   "id": "427b1fabfc93a4cf",
   "outputs": [],
   "execution_count": 5
  },
  {
   "metadata": {},
   "cell_type": "code",
   "source": "structure_dict",
   "id": "14d319b55f0a2bee",
   "outputs": [],
   "execution_count": null
  },
  {
   "metadata": {},
   "cell_type": "code",
   "outputs": [],
   "execution_count": null,
   "source": "",
   "id": "a628df773afcb953"
  }
 ],
 "metadata": {
  "kernelspec": {
   "display_name": "Python 3",
   "language": "python",
   "name": "python3"
  },
  "language_info": {
   "codemirror_mode": {
    "name": "ipython",
    "version": 2
   },
   "file_extension": ".py",
   "mimetype": "text/x-python",
   "name": "python",
   "nbconvert_exporter": "python",
   "pygments_lexer": "ipython2",
   "version": "2.7.6"
  }
 },
 "nbformat": 4,
 "nbformat_minor": 5
}
