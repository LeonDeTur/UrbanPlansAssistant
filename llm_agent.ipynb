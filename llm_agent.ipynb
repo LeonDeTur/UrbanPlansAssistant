{
 "cells": [
  {
   "cell_type": "code",
   "id": "initial_id",
   "metadata": {
    "collapsed": true,
    "ExecuteTime": {
     "end_time": "2025-04-10T12:20:19.684729Z",
     "start_time": "2025-04-10T12:20:18.811262Z"
    }
   },
   "source": [
    "from markitdown import MarkItDown\n",
    "import requests\n",
    "import base64\n",
    "import json"
   ],
   "outputs": [],
   "execution_count": 1
  },
  {
   "metadata": {
    "ExecuteTime": {
     "end_time": "2025-04-10T12:20:20.306437Z",
     "start_time": "2025-04-10T12:20:20.303075Z"
    }
   },
   "cell_type": "code",
   "source": [
    "client_cert = \"20250129_IDU_ADGX_LeonTur.crt\"\n",
    "ca_cert = \"onti-ca.crt\"\n",
    "client_key = \"DECFILE\""
   ],
   "id": "9c3319e92cfd393e",
   "outputs": [],
   "execution_count": 2
  },
  {
   "metadata": {
    "ExecuteTime": {
     "end_time": "2025-04-10T12:20:47.868892Z",
     "start_time": "2025-04-10T12:20:47.864947Z"
    }
   },
   "cell_type": "code",
   "source": [
    "class CustomLlamaClient:\n",
    "\n",
    "    def __init__(\n",
    "            self,\n",
    "            model: str,\n",
    "            base_url: str,\n",
    "            client_cert: str,\n",
    "            ca_cert: str,\n",
    "            client_key: str,\n",
    "    ):\n",
    "        self.model = model\n",
    "        self.base_url = f\"{base_url}/api\"\n",
    "        self.client_cert = client_cert\n",
    "        self.ca_cert = ca_cert\n",
    "        self.client_key = client_key\n",
    "        self.headers = {\n",
    "    \"Content-Type\": \"application/json\"\n",
    "}\n",
    "\n",
    "    def generate(\n",
    "            self,\n",
    "            prompt: str,\n",
    "            images: list = None\n",
    "    ):\n",
    "\n",
    "        data = {\n",
    "                \"model\": self.model,\n",
    "                \"prompt\": prompt,\n",
    "                \"images\": images\n",
    "            }\n",
    "        response = requests.get(\n",
    "            url=f\"{self.base_url}/generate\",\n",
    "            headers=self.headers,\n",
    "            data=json.dumps(data),\n",
    "            cert=(self.client_cert, self.client_key),\n",
    "            verify=ca_cert\n",
    "        )\n",
    "        print(response.status_code)\n",
    "        return response"
   ],
   "id": "d296d0d2828a60a7",
   "outputs": [],
   "execution_count": 6
  },
  {
   "metadata": {
    "ExecuteTime": {
     "end_time": "2025-04-10T12:20:48.443850Z",
     "start_time": "2025-04-10T12:20:48.440787Z"
    }
   },
   "cell_type": "code",
   "source": [
    "idu_llama_client = CustomLlamaClient(\n",
    "    model=\"llama3.3\",\n",
    "    base_url=\"http://a.dgx:11434\",\n",
    "    client_cert=client_cert,\n",
    "    ca_cert=ca_cert,\n",
    "    client_key=client_key,\n",
    ")"
   ],
   "id": "550885dced6c9266",
   "outputs": [],
   "execution_count": 7
  },
  {
   "metadata": {
    "ExecuteTime": {
     "end_time": "2025-04-10T12:20:49.278987Z",
     "start_time": "2025-04-10T12:20:49.252254Z"
    }
   },
   "cell_type": "code",
   "source": [
    "with open(\"putin.jpg\", \"rb\") as f:\n",
    "    encoded_image = str(base64.b64encode(f.read()))\n",
    "    answer = idu_llama_client.generate(\n",
    "        prompt=\"Опиши изображение\",\n",
    "    )\n",
    "    print(answer)"
   ],
   "id": "82afdbeb569970ab",
   "outputs": [
    {
     "ename": "FileNotFoundError",
     "evalue": "[Errno 2] No such file or directory: 'putin.jpg'",
     "output_type": "error",
     "traceback": [
      "\u001B[31m---------------------------------------------------------------------------\u001B[39m",
      "\u001B[31mFileNotFoundError\u001B[39m                         Traceback (most recent call last)",
      "\u001B[36mCell\u001B[39m\u001B[36m \u001B[39m\u001B[32mIn[8]\u001B[39m\u001B[32m, line 1\u001B[39m\n\u001B[32m----> \u001B[39m\u001B[32m1\u001B[39m \u001B[38;5;28;01mwith\u001B[39;00m \u001B[38;5;28;43mopen\u001B[39;49m\u001B[43m(\u001B[49m\u001B[33;43m\"\u001B[39;49m\u001B[33;43mputin.jpg\u001B[39;49m\u001B[33;43m\"\u001B[39;49m\u001B[43m,\u001B[49m\u001B[43m \u001B[49m\u001B[33;43m\"\u001B[39;49m\u001B[33;43mrb\u001B[39;49m\u001B[33;43m\"\u001B[39;49m\u001B[43m)\u001B[49m \u001B[38;5;28;01mas\u001B[39;00m f:\n\u001B[32m      2\u001B[39m     encoded_image = \u001B[38;5;28mstr\u001B[39m(base64.b64encode(f.read()))\n\u001B[32m      3\u001B[39m     answer = idu_llama_client.generate(\n\u001B[32m      4\u001B[39m         prompt=\u001B[33m\"\u001B[39m\u001B[33mОпиши изображение\u001B[39m\u001B[33m\"\u001B[39m,\n\u001B[32m      5\u001B[39m     )\n",
      "\u001B[36mFile \u001B[39m\u001B[32m~\\AppData\\Local\\pypoetry\\Cache\\virtualenvs\\urbanplansassistant-ngDiDSNH-py3.11\\Lib\\site-packages\\IPython\\core\\interactiveshell.py:326\u001B[39m, in \u001B[36m_modified_open\u001B[39m\u001B[34m(file, *args, **kwargs)\u001B[39m\n\u001B[32m    319\u001B[39m \u001B[38;5;28;01mif\u001B[39;00m file \u001B[38;5;129;01min\u001B[39;00m {\u001B[32m0\u001B[39m, \u001B[32m1\u001B[39m, \u001B[32m2\u001B[39m}:\n\u001B[32m    320\u001B[39m     \u001B[38;5;28;01mraise\u001B[39;00m \u001B[38;5;167;01mValueError\u001B[39;00m(\n\u001B[32m    321\u001B[39m         \u001B[33mf\u001B[39m\u001B[33m\"\u001B[39m\u001B[33mIPython won\u001B[39m\u001B[33m'\u001B[39m\u001B[33mt let you open fd=\u001B[39m\u001B[38;5;132;01m{\u001B[39;00mfile\u001B[38;5;132;01m}\u001B[39;00m\u001B[33m by default \u001B[39m\u001B[33m\"\u001B[39m\n\u001B[32m    322\u001B[39m         \u001B[33m\"\u001B[39m\u001B[33mas it is likely to crash IPython. If you know what you are doing, \u001B[39m\u001B[33m\"\u001B[39m\n\u001B[32m    323\u001B[39m         \u001B[33m\"\u001B[39m\u001B[33myou can use builtins\u001B[39m\u001B[33m'\u001B[39m\u001B[33m open.\u001B[39m\u001B[33m\"\u001B[39m\n\u001B[32m    324\u001B[39m     )\n\u001B[32m--> \u001B[39m\u001B[32m326\u001B[39m \u001B[38;5;28;01mreturn\u001B[39;00m \u001B[43mio_open\u001B[49m\u001B[43m(\u001B[49m\u001B[43mfile\u001B[49m\u001B[43m,\u001B[49m\u001B[43m \u001B[49m\u001B[43m*\u001B[49m\u001B[43margs\u001B[49m\u001B[43m,\u001B[49m\u001B[43m \u001B[49m\u001B[43m*\u001B[49m\u001B[43m*\u001B[49m\u001B[43mkwargs\u001B[49m\u001B[43m)\u001B[49m\n",
      "\u001B[31mFileNotFoundError\u001B[39m: [Errno 2] No such file or directory: 'putin.jpg'"
     ]
    }
   ],
   "execution_count": 8
  },
  {
   "metadata": {
    "ExecuteTime": {
     "end_time": "2025-04-10T12:20:50.333450Z",
     "start_time": "2025-04-10T12:20:50.282593Z"
    }
   },
   "cell_type": "code",
   "source": "md = MarkItDown(llm_client=idu_llama_client)",
   "id": "3f5e60fd8a1bf8ec",
   "outputs": [],
   "execution_count": 9
  },
  {
   "metadata": {
    "ExecuteTime": {
     "end_time": "2025-04-10T12:20:52.505859Z",
     "start_time": "2025-04-10T12:20:52.469401Z"
    }
   },
   "cell_type": "code",
   "source": [
    "import base64\n",
    "from io import BytesIO\n",
    "from PIL import Image  # Требуется установка Pillow\n",
    "\n",
    "def image_to_base64(image_path: str, format: str = \"PNG\") -> str:\n",
    "    # Открываем изображение и конвертируем в байты\n",
    "    with Image.open(image_path) as img:\n",
    "        buffered = BytesIO()\n",
    "        img.save(buffered, format=format)\n",
    "        return base64.b64encode(buffered.getvalue()).decode(\"utf-8\")"
   ],
   "id": "a0d4c62869e7129a",
   "outputs": [],
   "execution_count": 10
  },
  {
   "metadata": {
    "ExecuteTime": {
     "end_time": "2025-04-10T13:01:09.693108Z",
     "start_time": "2025-04-10T13:00:59.325364Z"
    }
   },
   "cell_type": "code",
   "source": [
    "import json\n",
    "\n",
    "url = \"http://a.dgx:11434/api/generate\"\n",
    "\n",
    "# Данные запроса\n",
    "headers = {\n",
    "    \"Content-Type\": \"application/json\"\n",
    "}\n",
    "# payload = {\n",
    "#     \"image_data\": {\n",
    "#         \"format\": \"jpg\",\n",
    "#         \"content\": image_base64\n",
    "#     },\n",
    "#     \"metadata\": {\n",
    "#         \"description\": \"Пример изображения\",\n",
    "#         \"source\": \"mobile_app\"\n",
    "#     }\n",
    "# }\n",
    "\n",
    "data = {\n",
    "    \"model\": \"llava:34b\",\n",
    "    \"prompt\": \"Прочитай что написано на изображении и скажи название картинки исходя из того, что на ней написано\",\n",
    "    \"stream\": False,\n",
    "}\n",
    "\n",
    "# with open(\"pzz.jpg\", \"rb\") as f:\n",
    "#     encoded_image = str(base64.b64encode(f.read()))\n",
    "#     with requests.post(\n",
    "#         url,\n",
    "#         headers=headers,\n",
    "#         data=json.dumps(data),\n",
    "#         cert=(client_cert, client_key),\n",
    "#         verify=ca_cert,\n",
    "#         stream=True) as response:\n",
    "#         print(response.text)\n",
    "\n",
    "with requests.post(\n",
    "    url,\n",
    "    headers=headers,\n",
    "    data=json.dumps(data),\n",
    "    cert=(client_cert, client_key),\n",
    "    verify=ca_cert,\n",
    "    stream=True) as response:\n",
    "    print(response.text)"
   ],
   "id": "1735b9a4ee2b40c3",
   "outputs": [
    {
     "name": "stdout",
     "output_type": "stream",
     "text": [
      "{\"model\":\"llava:34b\",\"created_at\":\"2025-04-10T13:01:09.971265537Z\",\"response\":\"К сожалению, я не могу прочесть текст на изображениях. Для того, чтобы определиться с названием картинки, я буду нуждаться в дополнительной информации или возможность просмотра самого изображения. Если у вас есть какое-то определенное содержание на изображении, пожалуйста, уточните меня.\",\"done\":true,\"done_reason\":\"stop\",\"context\":[1581,59705,622,59593,5858,46826,10707,144,7,59568,144,59666,59705,622,59593,5858,46826,3903,144,54201,8303,1799,60338,18925,1760,1690,39632,2353,1690,5916,18792,1695,8336,1639,59658,1934,1548,2373,9358,1690,19919,6471,6584,59699,3504,59675,2912,1934,59716,39411,59956,5916,9953,6259,97,18925,1760,1690,7760,60338,1690,39632,2353,7,59568,144,59666,59705,622,59593,5858,46826,765,13611,144,60758,30050,12682,3460,1639,60998,97,23928,7760,12950,23822,7764,4527,2337,61496,11178,59787,2337,1690,5916,18792,1695,8336,5548,60597,98,7964,8525,9953,6259,97,18925,1760,60099,61775,52116,2558,38549,23915,1548,1690,19919,6471,59893,6584,59699,3504,59675,2912,97,23928,4770,60007,13712,59568,23199,15496,38549,23915,1949,7621,21040,1639,8019,61496,2353,60338,18470,31664,4351,21718,21864,11648,59906,8908,60367,14003,61496,7764,59716,8908,15064,29185,6259,5916,18792,1695,8336,5548,98,12903,59716,2558,6867,50742,59716,2973,2337,61496,6584,2631,59669,59594,1760,52116,16541,2353,59669,30050,49266,12682,6471,1690,5916,18792,1695,8336,1639,59658,97,3372,60367,10432,60007,60338,8033,97,6867,15183,8456,3422,2935,59956,98],\"total_duration\":10255135578,\"load_duration\":5464500761,\"prompt_eval_count\":75,\"prompt_eval_duration\":492866000,\"eval_count\":135,\"eval_duration\":4256328000}\n"
     ]
    }
   ],
   "execution_count": 14
  },
  {
   "metadata": {},
   "cell_type": "code",
   "outputs": [],
   "execution_count": null,
   "source": "",
   "id": "f0be28eb7eab7d71"
  }
 ],
 "metadata": {
  "kernelspec": {
   "display_name": "Python 3",
   "language": "python",
   "name": "python3"
  },
  "language_info": {
   "codemirror_mode": {
    "name": "ipython",
    "version": 2
   },
   "file_extension": ".py",
   "mimetype": "text/x-python",
   "name": "python",
   "nbconvert_exporter": "python",
   "pygments_lexer": "ipython2",
   "version": "2.7.6"
  }
 },
 "nbformat": 4,
 "nbformat_minor": 5
}
