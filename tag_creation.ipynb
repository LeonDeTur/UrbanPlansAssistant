{
 "cells": [
  {
   "metadata": {
    "ExecuteTime": {
     "end_time": "2025-05-12T13:08:39.462867Z",
     "start_time": "2025-05-12T13:08:36.681248Z"
    }
   },
   "cell_type": "code",
   "source": [
    "import json\n",
    "import time\n",
    "\n",
    "from duckdb.duckdb import keyword\n",
    "from tqdm.auto import tqdm\n",
    "import requests\n",
    "import pandas as pd\n",
    "import geopandas as gpd\n",
    "from docx import Document\n",
    "from keybert import KeyBERT\n",
    "\n",
    "\n",
    "tqdm.pandas()\n",
    "client_cert = \"20250129_IDU_ADGX_LeonTur.crt\"\n",
    "ca_cert = \"onti-ca.crt\"\n",
    "client_key = \"DECFILE\""
   ],
   "id": "e0d80301bd577000",
   "outputs": [],
   "execution_count": 1
  },
  {
   "cell_type": "code",
   "id": "initial_id",
   "metadata": {
    "collapsed": true,
    "ExecuteTime": {
     "end_time": "2025-05-12T15:02:56.715337Z",
     "start_time": "2025-05-12T15:02:56.710296Z"
    }
   },
   "source": [
    "def request_from_llm(prompt: str) -> str:\n",
    "    \"\"\"\n",
    "    Function extracts prompt from llm api\n",
    "    Args:\n",
    "        prompt (str): prompt to execute\n",
    "    Returns:\n",
    "        str: request from llm\n",
    "    \"\"\"\n",
    "\n",
    "    headers = {\n",
    "        \"Content-Type\": \"application/json\"\n",
    "    }\n",
    "    data = {\n",
    "        \"model\": \"llama3.3\",\n",
    "        \"prompt\": prompt,\n",
    "        \"stream\": False,\n",
    "        \"temperature\": 0.2\n",
    "    }\n",
    "    response = requests.post(\n",
    "        url=\"http://a.dgx:11434/api/generate\",\n",
    "        headers=headers,\n",
    "        data=json.dumps(data),\n",
    "        cert=(client_cert, client_key),\n",
    "        verify=ca_cert\n",
    "    )\n",
    "    if response.status_code == 200:\n",
    "        return response.json()[\"response\"]\n",
    "    return \"\""
   ],
   "outputs": [],
   "execution_count": 19
  },
  {
   "metadata": {
    "ExecuteTime": {
     "end_time": "2025-05-12T15:14:35.635099Z",
     "start_time": "2025-05-12T15:14:35.630543Z"
    }
   },
   "cell_type": "code",
   "source": [
    "def construct_lemma_prompt(text: str) -> str:\n",
    "\n",
    "    prompt = f\"\"\"\n",
    "        Приведи слово \"{text}\" в первоначальную форму.\n",
    "        Если слово не было передано в тексте верни ''\n",
    "        \"\"\"\n",
    "    return prompt\n",
    "\n",
    "def get_tags(text: str) -> str:\n",
    "\n",
    "    prompt = construct_lemma_prompt(text)\n",
    "    tags_from_llm = request_from_llm(prompt)\n",
    "    return tags_from_llm"
   ],
   "id": "5a404fb8b7184b12",
   "outputs": [],
   "execution_count": 23
  },
  {
   "metadata": {
    "ExecuteTime": {
     "end_time": "2025-05-12T13:08:39.526447Z",
     "start_time": "2025-05-12T13:08:39.505187Z"
    }
   },
   "cell_type": "code",
   "source": [
    "df = pd.read_csv(\"with_names.csv\")\n",
    "test_df = df[:100].copy()"
   ],
   "id": "1bec55961927a7bb",
   "outputs": [],
   "execution_count": 4
  },
  {
   "metadata": {
    "ExecuteTime": {
     "end_time": "2025-05-12T13:24:32.910119Z",
     "start_time": "2025-05-12T13:10:43.045387Z"
    }
   },
   "cell_type": "code",
   "source": "test_df[\"tags\"] = test_df[\"text\"].progress_apply(get_tags)",
   "id": "edca7c5e2e8786a8",
   "outputs": [
    {
     "data": {
      "text/plain": [
       "  0%|          | 0/100 [00:00<?, ?it/s]"
      ],
      "application/vnd.jupyter.widget-view+json": {
       "version_major": 2,
       "version_minor": 0,
       "model_id": "890fc355676345cd9eb317c623d0e299"
      }
     },
     "metadata": {},
     "output_type": "display_data"
    }
   ],
   "execution_count": 6
  },
  {
   "metadata": {
    "ExecuteTime": {
     "end_time": "2025-05-12T14:45:37.069574Z",
     "start_time": "2025-05-12T14:45:35.646699Z"
    }
   },
   "cell_type": "code",
   "source": [
    "hole_text = \"\\n\".join(test_df[\"text\"].to_list())\n",
    "kw_model = KeyBERT()"
   ],
   "id": "8279b1d4dd144c46",
   "outputs": [],
   "execution_count": 13
  },
  {
   "metadata": {
    "jupyter": {
     "is_executing": true
    },
    "ExecuteTime": {
     "start_time": "2025-05-12T15:14:40.252056Z"
    }
   },
   "cell_type": "code",
   "source": [
    "def extract_keywords(text: str, kw_model: KeyBERT) -> list[str]:\n",
    "\n",
    "    tags_num = 1 + round(len(text) / 500)\n",
    "    tags_data = kw_model.extract_keywords(text, keyphrase_ngram_range=(1, 2), top_n=tags_num)\n",
    "    tags = [i[0] for i in tags_data if i[1] > 0.5]\n",
    "    cleaned_tags = [get_tags(tag) for tag in tags]\n",
    "    return cleaned_tags\n",
    "\n",
    "res = test_df[\"text\"].progress_apply(extract_keywords, kw_model=kw_model)"
   ],
   "id": "eb62e96af19e64ac",
   "outputs": [
    {
     "data": {
      "text/plain": [
       "  0%|          | 0/100 [00:00<?, ?it/s]"
      ],
      "application/vnd.jupyter.widget-view+json": {
       "version_major": 2,
       "version_minor": 0,
       "model_id": "02810d74adaf4456b0493855a4c37448"
      }
     },
     "metadata": {},
     "output_type": "display_data"
    }
   ],
   "execution_count": null
  },
  {
   "metadata": {
    "ExecuteTime": {
     "end_time": "2025-05-12T15:14:13.408559Z",
     "start_time": "2025-05-12T15:14:13.401018Z"
    }
   },
   "cell_type": "code",
   "source": "res",
   "id": "2d95522804602d28",
   "outputs": [
    {
     "data": {
      "text/plain": [
       "0     [Это задача по морфологическому анализу и норм...\n",
       "1     [Я готов помочь!\\n\\nОднако, я не вижу слова \"С...\n",
       "2     [Слово \"стратегии\" в первоначальной форме - \"с...\n",
       "3     [Вы предоставили только одно слово: \"социально...\n",
       "4     [Прошу прощения, но я не вижу списка слов для ...\n",
       "                            ...                        \n",
       "95                                                   []\n",
       "96                                                   []\n",
       "97                                                   []\n",
       "98                                                   []\n",
       "99    [аэропорт\\nПулково, 'аэропорт Пулково' вернетс...\n",
       "Name: text, Length: 100, dtype: object"
      ]
     },
     "execution_count": 22,
     "metadata": {},
     "output_type": "execute_result"
    }
   ],
   "execution_count": 22
  },
  {
   "metadata": {
    "ExecuteTime": {
     "end_time": "2025-05-12T14:35:14.616046Z",
     "start_time": "2025-05-12T14:35:05.036900Z"
    }
   },
   "cell_type": "code",
   "source": [
    "from keybert import KeyBERT\n",
    "\n",
    "kw_model = KeyBERT()\n",
    "test_df[\"text\"].apply(kw_model.extract_keywords, keyphrase_ngram_range=(1, 2), stop_words=None, top_n=3)"
   ],
   "id": "5bbd1fbabe9b0baf",
   "outputs": [
    {
     "data": {
      "text/plain": [
       "0                                   [(приложение, 1.0)]\n",
       "1     [(петербурга, 0.7613), (санкт, 0.7016), (закон...\n",
       "2                                 [(стратегии, 0.9097)]\n",
       "3       [(социально, 0.8148), (экономического, 0.7896)]\n",
       "4     [(развития, 0.7858), (петербурга, 0.7103), (са...\n",
       "                            ...                        \n",
       "95    [(внешнеэкономических, 0.396), (российской, 0....\n",
       "96    [(грузы, 0.3667), (железнодорожный, 0.3454), (...\n",
       "97    [(грузовом, 0.3545), (грузы, 0.3413), (грузов,...\n",
       "98    [(перевозки, 0.3178), (переместились, 0.3109),...\n",
       "99    [(аэропорт, 0.4723), (аэропортом, 0.4666), (со...\n",
       "Name: text, Length: 100, dtype: object"
      ]
     },
     "execution_count": 11,
     "metadata": {},
     "output_type": "execute_result"
    }
   ],
   "execution_count": 11
  },
  {
   "metadata": {},
   "cell_type": "code",
   "outputs": [],
   "execution_count": null,
   "source": "",
   "id": "5d617aac70dd0a00"
  }
 ],
 "metadata": {
  "kernelspec": {
   "display_name": "Python 3",
   "language": "python",
   "name": "python3"
  },
  "language_info": {
   "codemirror_mode": {
    "name": "ipython",
    "version": 2
   },
   "file_extension": ".py",
   "mimetype": "text/x-python",
   "name": "python",
   "nbconvert_exporter": "python",
   "pygments_lexer": "ipython2",
   "version": "2.7.6"
  }
 },
 "nbformat": 4,
 "nbformat_minor": 5
}
