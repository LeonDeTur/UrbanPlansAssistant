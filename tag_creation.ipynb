{
 "cells": [
  {
   "metadata": {
    "ExecuteTime": {
     "end_time": "2025-04-17T12:40:27.820482Z",
     "start_time": "2025-04-17T12:40:25.424163Z"
    }
   },
   "cell_type": "code",
   "source": [
    "import json\n",
    "import time\n",
    "\n",
    "from tqdm.auto import tqdm\n",
    "import requests\n",
    "import pandas as pd\n",
    "import geopandas as gpd\n",
    "from docx import Document\n",
    "\n",
    "\n",
    "tqdm.pandas()\n",
    "client_cert = \"20250129_IDU_ADGX_LeonTur.crt\"\n",
    "ca_cert = \"onti-ca.crt\"\n",
    "client_key = \"DECFILE\""
   ],
   "id": "e0d80301bd577000",
   "outputs": [],
   "execution_count": 2
  },
  {
   "cell_type": "code",
   "id": "initial_id",
   "metadata": {
    "collapsed": true,
    "ExecuteTime": {
     "end_time": "2025-04-17T12:40:28.466516Z",
     "start_time": "2025-04-17T12:40:28.462759Z"
    }
   },
   "source": [
    "def request_from_llm(prompt: str) -> str:\n",
    "    \"\"\"\n",
    "    Function extracts prompt from llm api\n",
    "    Args:\n",
    "        prompt (str): prompt to execute\n",
    "    Returns:\n",
    "        str: request from llm\n",
    "    \"\"\"\n",
    "\n",
    "    headers = {\n",
    "        \"Content-Type\": \"application/json\"\n",
    "    }\n",
    "    data = {\n",
    "        \"model\": \"llama3.3\",\n",
    "        \"prompt\": prompt,\n",
    "        \"stream\": False,\n",
    "    }\n",
    "    response = requests.post(\n",
    "        url=\"http://a.dgx:11434/api/generate\",\n",
    "        headers=headers,\n",
    "        data=json.dumps(data),\n",
    "        cert=(client_cert, client_key),\n",
    "        verify=ca_cert\n",
    "    )\n",
    "    if response.status_code == 200:\n",
    "        return response.json()[\"response\"]\n",
    "    return \"\""
   ],
   "outputs": [],
   "execution_count": 3
  },
  {
   "metadata": {
    "ExecuteTime": {
     "end_time": "2025-04-17T12:40:28.476452Z",
     "start_time": "2025-04-17T12:40:28.472676Z"
    }
   },
   "cell_type": "code",
   "source": [
    "def construct_lemma_prompt(text: str) -> str:\n",
    "\n",
    "    prompt = f\"\"\"\n",
    "        Приведи все слова в тексте в первоначальную форму слова{text}\n",
    "        Слова должны быть преведены в одну строчку через запятую, без пробелов и переходов на новую строчку\n",
    "        \"\"\"\n",
    "    return prompt\n",
    "\n",
    "def get_tags(text: str) -> str:\n",
    "\n",
    "    prompt = construct_lemma_prompt(text)\n",
    "    tags_from_llm = request_from_llm(prompt)\n",
    "    return tags_from_llm"
   ],
   "id": "5a404fb8b7184b12",
   "outputs": [],
   "execution_count": 4
  },
  {
   "metadata": {
    "ExecuteTime": {
     "end_time": "2025-04-17T12:40:28.503255Z",
     "start_time": "2025-04-17T12:40:28.482589Z"
    }
   },
   "cell_type": "code",
   "source": "df = pd.read_csv(\"with_names.csv\")",
   "id": "1bec55961927a7bb",
   "outputs": [],
   "execution_count": 5
  },
  {
   "metadata": {
    "ExecuteTime": {
     "end_time": "2025-04-17T14:57:10.657773Z",
     "start_time": "2025-04-17T12:42:50.889016Z"
    }
   },
   "cell_type": "code",
   "source": "df[\"tags\"] = df[\"text\"].progress_apply(get_tags)",
   "id": "edca7c5e2e8786a8",
   "outputs": [
    {
     "data": {
      "text/plain": [
       "  0%|          | 0/1265 [00:00<?, ?it/s]"
      ],
      "application/vnd.jupyter.widget-view+json": {
       "version_major": 2,
       "version_minor": 0,
       "model_id": "48c18911828e43a0b2da92ec6cf7e55f"
      }
     },
     "metadata": {},
     "output_type": "display_data"
    }
   ],
   "execution_count": 8
  },
  {
   "metadata": {
    "ExecuteTime": {
     "end_time": "2025-04-17T14:59:20.762050Z",
     "start_time": "2025-04-17T14:59:20.735371Z"
    }
   },
   "cell_type": "code",
   "source": "df[\"tags\"]",
   "id": "8279b1d4dd144c46",
   "outputs": [
    {
     "data": {
      "text/plain": [
       "0                           привести, слово, текст, форма\n",
       "1                                  Закон,Санкт-Петербурга\n",
       "2       Мне не было дано исходного текста для обработк...\n",
       "3       Слово \"социально-экономический\" состоит из дву...\n",
       "4                                развитие,Санкт-Петербург\n",
       "                              ...                        \n",
       "1260    улучшение,инвестиционный,климат,Санкт-Петербур...\n",
       "1261    ретроспективный, данные, взаимосвязь, уровень,...\n",
       "1262    Реализация,Стратегия,осуществляется,посредство...\n",
       "1263    Государственная,программа,Санкт-Петербург,разр...\n",
       "1264    Привести,государственный,программа,утверждать,...\n",
       "Name: tags, Length: 1265, dtype: object"
      ]
     },
     "execution_count": 9,
     "metadata": {},
     "output_type": "execute_result"
    }
   ],
   "execution_count": 9
  },
  {
   "metadata": {},
   "cell_type": "code",
   "outputs": [],
   "execution_count": null,
   "source": "",
   "id": "516902817f008f6"
  }
 ],
 "metadata": {
  "kernelspec": {
   "display_name": "Python 3",
   "language": "python",
   "name": "python3"
  },
  "language_info": {
   "codemirror_mode": {
    "name": "ipython",
    "version": 2
   },
   "file_extension": ".py",
   "mimetype": "text/x-python",
   "name": "python",
   "nbconvert_exporter": "python",
   "pygments_lexer": "ipython2",
   "version": "2.7.6"
  }
 },
 "nbformat": 4,
 "nbformat_minor": 5
}
