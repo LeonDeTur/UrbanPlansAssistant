{
 "cells": [
  {
   "metadata": {
    "ExecuteTime": {
     "end_time": "2025-04-16T14:12:23.149667Z",
     "start_time": "2025-04-16T14:12:22.857328Z"
    }
   },
   "cell_type": "code",
   "source": [
    "import json\n",
    "import time\n",
    "\n",
    "from tqdm.auto import tqdm\n",
    "import requests\n",
    "import pandas as pd\n",
    "import geopandas as gpd\n",
    "from docx import Document\n",
    "\n",
    "\n",
    "tqdm.pandas()\n",
    "client_cert = \"20250129_IDU_ADGX_LeonTur.crt\"\n",
    "ca_cert = \"onti-ca.crt\"\n",
    "client_key = \"DECFILE\""
   ],
   "id": "e0d80301bd577000",
   "outputs": [],
   "execution_count": 3
  },
  {
   "cell_type": "code",
   "id": "initial_id",
   "metadata": {
    "collapsed": true,
    "ExecuteTime": {
     "end_time": "2025-04-16T14:12:23.361290Z",
     "start_time": "2025-04-16T14:12:23.356404Z"
    }
   },
   "source": [
    "def request_from_llm(prompt: str) -> str:\n",
    "    \"\"\"\n",
    "    Function extracts prompt from llm api\n",
    "    Args:\n",
    "        prompt (str): prompt to execute\n",
    "    Returns:\n",
    "        str: request from llm\n",
    "    \"\"\"\n",
    "\n",
    "    headers = {\n",
    "        \"Content-Type\": \"application/json\"\n",
    "    }\n",
    "    data = {\n",
    "        \"model\": \"llama3.3\",\n",
    "        \"prompt\": prompt,\n",
    "        \"stream\": False,\n",
    "    }\n",
    "    response = requests.post(\n",
    "        url=\"http://a.dgx:11434/api/generate\",\n",
    "        headers=headers,\n",
    "        data=json.dumps(data),\n",
    "        cert=(client_cert, client_key),\n",
    "        verify=ca_cert\n",
    "    )\n",
    "    if response.status_code == 200:\n",
    "        return response.json()[\"response\"]\n",
    "    return \"\""
   ],
   "outputs": [],
   "execution_count": 4
  },
  {
   "metadata": {},
   "cell_type": "code",
   "outputs": [],
   "execution_count": null,
   "source": [
    "def construct_lemma_prompt(text: str) -> str:\n",
    "\n",
    "    prompt = f\"\"\"\n",
    "        Приведи все слова в тексте в первоначальную форму{text}\n",
    "        Слова должны быть преведены в одну строчку,\n",
    "        \"\"\""
   ],
   "id": "5a404fb8b7184b12"
  }
 ],
 "metadata": {
  "kernelspec": {
   "display_name": "Python 3",
   "language": "python",
   "name": "python3"
  },
  "language_info": {
   "codemirror_mode": {
    "name": "ipython",
    "version": 2
   },
   "file_extension": ".py",
   "mimetype": "text/x-python",
   "name": "python",
   "nbconvert_exporter": "python",
   "pygments_lexer": "ipython2",
   "version": "2.7.6"
  }
 },
 "nbformat": 4,
 "nbformat_minor": 5
}
