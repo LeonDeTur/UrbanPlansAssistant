{
 "cells": [
  {
   "cell_type": "code",
   "id": "initial_id",
   "metadata": {
    "collapsed": true,
    "ExecuteTime": {
     "end_time": "2025-04-11T15:10:52.631242Z",
     "start_time": "2025-04-11T15:10:52.494074Z"
    }
   },
   "source": [
    "import pandas as pd\n",
    "from docx import Document\n",
    "from docx.oxml import CT_Tbl\n",
    "from docx.oxml.text.paragraph import CT_P\n",
    "\n",
    "from llm_agent import tmp_llm_model\n",
    "from llm_agent.pandas_llm_agent import ollama_client"
   ],
   "outputs": [
    {
     "ename": "ValueError",
     "evalue": "numpy.dtype size changed, may indicate binary incompatibility. Expected 96 from C header, got 88 from PyObject",
     "output_type": "error",
     "traceback": [
      "\u001B[31m---------------------------------------------------------------------------\u001B[39m",
      "\u001B[31mValueError\u001B[39m                                Traceback (most recent call last)",
      "\u001B[36mCell\u001B[39m\u001B[36m \u001B[39m\u001B[32mIn[4]\u001B[39m\u001B[32m, line 1\u001B[39m\n\u001B[32m----> \u001B[39m\u001B[32m1\u001B[39m \u001B[38;5;28;01mimport\u001B[39;00m\u001B[38;5;250m \u001B[39m\u001B[34;01mpandas\u001B[39;00m\u001B[38;5;250m \u001B[39m\u001B[38;5;28;01mas\u001B[39;00m\u001B[38;5;250m \u001B[39m\u001B[34;01mpd\u001B[39;00m\n\u001B[32m      2\u001B[39m \u001B[38;5;28;01mfrom\u001B[39;00m\u001B[38;5;250m \u001B[39m\u001B[34;01mdocx\u001B[39;00m\u001B[38;5;250m \u001B[39m\u001B[38;5;28;01mimport\u001B[39;00m Document\n\u001B[32m      3\u001B[39m \u001B[38;5;28;01mfrom\u001B[39;00m\u001B[38;5;250m \u001B[39m\u001B[34;01mdocx\u001B[39;00m\u001B[34;01m.\u001B[39;00m\u001B[34;01moxml\u001B[39;00m\u001B[38;5;250m \u001B[39m\u001B[38;5;28;01mimport\u001B[39;00m CT_Tbl\n",
      "\u001B[36mFile \u001B[39m\u001B[32m~\\AppData\\Local\\pypoetry\\Cache\\virtualenvs\\urbanplansassistant-ngDiDSNH-py3.11\\Lib\\site-packages\\pandas\\__init__.py:22\u001B[39m\n\u001B[32m     19\u001B[39m \u001B[38;5;28;01mdel\u001B[39;00m _hard_dependencies, _dependency, _missing_dependencies\n\u001B[32m     21\u001B[39m \u001B[38;5;66;03m# numpy compat\u001B[39;00m\n\u001B[32m---> \u001B[39m\u001B[32m22\u001B[39m \u001B[38;5;28;01mfrom\u001B[39;00m\u001B[38;5;250m \u001B[39m\u001B[34;01mpandas\u001B[39;00m\u001B[34;01m.\u001B[39;00m\u001B[34;01mcompat\u001B[39;00m\u001B[38;5;250m \u001B[39m\u001B[38;5;28;01mimport\u001B[39;00m is_numpy_dev \u001B[38;5;28;01mas\u001B[39;00m _is_numpy_dev  \u001B[38;5;66;03m# pyright: ignore # noqa:F401\u001B[39;00m\n\u001B[32m     24\u001B[39m \u001B[38;5;28;01mtry\u001B[39;00m:\n\u001B[32m     25\u001B[39m     \u001B[38;5;28;01mfrom\u001B[39;00m\u001B[38;5;250m \u001B[39m\u001B[34;01mpandas\u001B[39;00m\u001B[34;01m.\u001B[39;00m\u001B[34;01m_libs\u001B[39;00m\u001B[38;5;250m \u001B[39m\u001B[38;5;28;01mimport\u001B[39;00m hashtable \u001B[38;5;28;01mas\u001B[39;00m _hashtable, lib \u001B[38;5;28;01mas\u001B[39;00m _lib, tslib \u001B[38;5;28;01mas\u001B[39;00m _tslib\n",
      "\u001B[36mFile \u001B[39m\u001B[32m~\\AppData\\Local\\pypoetry\\Cache\\virtualenvs\\urbanplansassistant-ngDiDSNH-py3.11\\Lib\\site-packages\\pandas\\compat\\__init__.py:18\u001B[39m\n\u001B[32m     15\u001B[39m \u001B[38;5;28;01mfrom\u001B[39;00m\u001B[38;5;250m \u001B[39m\u001B[34;01mtyping\u001B[39;00m\u001B[38;5;250m \u001B[39m\u001B[38;5;28;01mimport\u001B[39;00m TYPE_CHECKING\n\u001B[32m     17\u001B[39m \u001B[38;5;28;01mfrom\u001B[39;00m\u001B[38;5;250m \u001B[39m\u001B[34;01mpandas\u001B[39;00m\u001B[34;01m.\u001B[39;00m\u001B[34;01m_typing\u001B[39;00m\u001B[38;5;250m \u001B[39m\u001B[38;5;28;01mimport\u001B[39;00m F\n\u001B[32m---> \u001B[39m\u001B[32m18\u001B[39m \u001B[38;5;28;01mfrom\u001B[39;00m\u001B[38;5;250m \u001B[39m\u001B[34;01mpandas\u001B[39;00m\u001B[34;01m.\u001B[39;00m\u001B[34;01mcompat\u001B[39;00m\u001B[34;01m.\u001B[39;00m\u001B[34;01mnumpy\u001B[39;00m\u001B[38;5;250m \u001B[39m\u001B[38;5;28;01mimport\u001B[39;00m (\n\u001B[32m     19\u001B[39m     is_numpy_dev,\n\u001B[32m     20\u001B[39m     np_version_under1p21,\n\u001B[32m     21\u001B[39m )\n\u001B[32m     22\u001B[39m \u001B[38;5;28;01mfrom\u001B[39;00m\u001B[38;5;250m \u001B[39m\u001B[34;01mpandas\u001B[39;00m\u001B[34;01m.\u001B[39;00m\u001B[34;01mcompat\u001B[39;00m\u001B[34;01m.\u001B[39;00m\u001B[34;01mpyarrow\u001B[39;00m\u001B[38;5;250m \u001B[39m\u001B[38;5;28;01mimport\u001B[39;00m (\n\u001B[32m     23\u001B[39m     pa_version_under1p01,\n\u001B[32m     24\u001B[39m     pa_version_under2p0,\n\u001B[32m   (...)\u001B[39m\u001B[32m     31\u001B[39m     pa_version_under9p0,\n\u001B[32m     32\u001B[39m )\n\u001B[32m     34\u001B[39m \u001B[38;5;28;01mif\u001B[39;00m TYPE_CHECKING:\n",
      "\u001B[36mFile \u001B[39m\u001B[32m~\\AppData\\Local\\pypoetry\\Cache\\virtualenvs\\urbanplansassistant-ngDiDSNH-py3.11\\Lib\\site-packages\\pandas\\compat\\numpy\\__init__.py:4\u001B[39m\n\u001B[32m      1\u001B[39m \u001B[33;03m\"\"\" support numpy compatibility across versions \"\"\"\u001B[39;00m\n\u001B[32m      2\u001B[39m \u001B[38;5;28;01mimport\u001B[39;00m\u001B[38;5;250m \u001B[39m\u001B[34;01mnumpy\u001B[39;00m\u001B[38;5;250m \u001B[39m\u001B[38;5;28;01mas\u001B[39;00m\u001B[38;5;250m \u001B[39m\u001B[34;01mnp\u001B[39;00m\n\u001B[32m----> \u001B[39m\u001B[32m4\u001B[39m \u001B[38;5;28;01mfrom\u001B[39;00m\u001B[38;5;250m \u001B[39m\u001B[34;01mpandas\u001B[39;00m\u001B[34;01m.\u001B[39;00m\u001B[34;01mutil\u001B[39;00m\u001B[34;01m.\u001B[39;00m\u001B[34;01mversion\u001B[39;00m\u001B[38;5;250m \u001B[39m\u001B[38;5;28;01mimport\u001B[39;00m Version\n\u001B[32m      6\u001B[39m \u001B[38;5;66;03m# numpy versioning\u001B[39;00m\n\u001B[32m      7\u001B[39m _np_version = np.__version__\n",
      "\u001B[36mFile \u001B[39m\u001B[32m~\\AppData\\Local\\pypoetry\\Cache\\virtualenvs\\urbanplansassistant-ngDiDSNH-py3.11\\Lib\\site-packages\\pandas\\util\\__init__.py:2\u001B[39m\n\u001B[32m      1\u001B[39m \u001B[38;5;66;03m# pyright: reportUnusedImport = false\u001B[39;00m\n\u001B[32m----> \u001B[39m\u001B[32m2\u001B[39m \u001B[38;5;28;01mfrom\u001B[39;00m\u001B[38;5;250m \u001B[39m\u001B[34;01mpandas\u001B[39;00m\u001B[34;01m.\u001B[39;00m\u001B[34;01mutil\u001B[39;00m\u001B[34;01m.\u001B[39;00m\u001B[34;01m_decorators\u001B[39;00m\u001B[38;5;250m \u001B[39m\u001B[38;5;28;01mimport\u001B[39;00m (  \u001B[38;5;66;03m# noqa:F401\u001B[39;00m\n\u001B[32m      3\u001B[39m     Appender,\n\u001B[32m      4\u001B[39m     Substitution,\n\u001B[32m      5\u001B[39m     cache_readonly,\n\u001B[32m      6\u001B[39m )\n\u001B[32m      8\u001B[39m \u001B[38;5;28;01mfrom\u001B[39;00m\u001B[38;5;250m \u001B[39m\u001B[34;01mpandas\u001B[39;00m\u001B[34;01m.\u001B[39;00m\u001B[34;01mcore\u001B[39;00m\u001B[34;01m.\u001B[39;00m\u001B[34;01mutil\u001B[39;00m\u001B[34;01m.\u001B[39;00m\u001B[34;01mhashing\u001B[39;00m\u001B[38;5;250m \u001B[39m\u001B[38;5;28;01mimport\u001B[39;00m (  \u001B[38;5;66;03m# noqa:F401\u001B[39;00m\n\u001B[32m      9\u001B[39m     hash_array,\n\u001B[32m     10\u001B[39m     hash_pandas_object,\n\u001B[32m     11\u001B[39m )\n\u001B[32m     14\u001B[39m \u001B[38;5;28;01mdef\u001B[39;00m\u001B[38;5;250m \u001B[39m\u001B[34m__getattr__\u001B[39m(name):\n",
      "\u001B[36mFile \u001B[39m\u001B[32m~\\AppData\\Local\\pypoetry\\Cache\\virtualenvs\\urbanplansassistant-ngDiDSNH-py3.11\\Lib\\site-packages\\pandas\\util\\_decorators.py:14\u001B[39m\n\u001B[32m      6\u001B[39m \u001B[38;5;28;01mfrom\u001B[39;00m\u001B[38;5;250m \u001B[39m\u001B[34;01mtyping\u001B[39;00m\u001B[38;5;250m \u001B[39m\u001B[38;5;28;01mimport\u001B[39;00m (\n\u001B[32m      7\u001B[39m     Any,\n\u001B[32m      8\u001B[39m     Callable,\n\u001B[32m      9\u001B[39m     Mapping,\n\u001B[32m     10\u001B[39m     cast,\n\u001B[32m     11\u001B[39m )\n\u001B[32m     12\u001B[39m \u001B[38;5;28;01mimport\u001B[39;00m\u001B[38;5;250m \u001B[39m\u001B[34;01mwarnings\u001B[39;00m\n\u001B[32m---> \u001B[39m\u001B[32m14\u001B[39m \u001B[38;5;28;01mfrom\u001B[39;00m\u001B[38;5;250m \u001B[39m\u001B[34;01mpandas\u001B[39;00m\u001B[34;01m.\u001B[39;00m\u001B[34;01m_libs\u001B[39;00m\u001B[34;01m.\u001B[39;00m\u001B[34;01mproperties\u001B[39;00m\u001B[38;5;250m \u001B[39m\u001B[38;5;28;01mimport\u001B[39;00m cache_readonly\n\u001B[32m     15\u001B[39m \u001B[38;5;28;01mfrom\u001B[39;00m\u001B[38;5;250m \u001B[39m\u001B[34;01mpandas\u001B[39;00m\u001B[34;01m.\u001B[39;00m\u001B[34;01m_typing\u001B[39;00m\u001B[38;5;250m \u001B[39m\u001B[38;5;28;01mimport\u001B[39;00m (\n\u001B[32m     16\u001B[39m     F,\n\u001B[32m     17\u001B[39m     T,\n\u001B[32m     18\u001B[39m )\n\u001B[32m     19\u001B[39m \u001B[38;5;28;01mfrom\u001B[39;00m\u001B[38;5;250m \u001B[39m\u001B[34;01mpandas\u001B[39;00m\u001B[34;01m.\u001B[39;00m\u001B[34;01mutil\u001B[39;00m\u001B[34;01m.\u001B[39;00m\u001B[34;01m_exceptions\u001B[39;00m\u001B[38;5;250m \u001B[39m\u001B[38;5;28;01mimport\u001B[39;00m find_stack_level\n",
      "\u001B[36mFile \u001B[39m\u001B[32m~\\AppData\\Local\\pypoetry\\Cache\\virtualenvs\\urbanplansassistant-ngDiDSNH-py3.11\\Lib\\site-packages\\pandas\\_libs\\__init__.py:13\u001B[39m\n\u001B[32m      1\u001B[39m __all__ = [\n\u001B[32m      2\u001B[39m     \u001B[33m\"\u001B[39m\u001B[33mNaT\u001B[39m\u001B[33m\"\u001B[39m,\n\u001B[32m      3\u001B[39m     \u001B[33m\"\u001B[39m\u001B[33mNaTType\u001B[39m\u001B[33m\"\u001B[39m,\n\u001B[32m   (...)\u001B[39m\u001B[32m      9\u001B[39m     \u001B[33m\"\u001B[39m\u001B[33mInterval\u001B[39m\u001B[33m\"\u001B[39m,\n\u001B[32m     10\u001B[39m ]\n\u001B[32m---> \u001B[39m\u001B[32m13\u001B[39m \u001B[38;5;28;01mfrom\u001B[39;00m\u001B[38;5;250m \u001B[39m\u001B[34;01mpandas\u001B[39;00m\u001B[34;01m.\u001B[39;00m\u001B[34;01m_libs\u001B[39;00m\u001B[34;01m.\u001B[39;00m\u001B[34;01minterval\u001B[39;00m\u001B[38;5;250m \u001B[39m\u001B[38;5;28;01mimport\u001B[39;00m Interval\n\u001B[32m     14\u001B[39m \u001B[38;5;28;01mfrom\u001B[39;00m\u001B[38;5;250m \u001B[39m\u001B[34;01mpandas\u001B[39;00m\u001B[34;01m.\u001B[39;00m\u001B[34;01m_libs\u001B[39;00m\u001B[34;01m.\u001B[39;00m\u001B[34;01mtslibs\u001B[39;00m\u001B[38;5;250m \u001B[39m\u001B[38;5;28;01mimport\u001B[39;00m (\n\u001B[32m     15\u001B[39m     NaT,\n\u001B[32m     16\u001B[39m     NaTType,\n\u001B[32m   (...)\u001B[39m\u001B[32m     21\u001B[39m     iNaT,\n\u001B[32m     22\u001B[39m )\n",
      "\u001B[36mFile \u001B[39m\u001B[32m~\\AppData\\Local\\pypoetry\\Cache\\virtualenvs\\urbanplansassistant-ngDiDSNH-py3.11\\Lib\\site-packages\\pandas\\_libs\\interval.pyx:1\u001B[39m, in \u001B[36minit pandas._libs.interval\u001B[39m\u001B[34m()\u001B[39m\n",
      "\u001B[31mValueError\u001B[39m: numpy.dtype size changed, may indicate binary incompatibility. Expected 96 from C header, got 88 from PyObject"
     ]
    }
   ],
   "execution_count": 4
  },
  {
   "metadata": {
    "ExecuteTime": {
     "end_time": "2025-04-11T15:01:00.637184500Z",
     "start_time": "2025-04-11T07:35:40.304248Z"
    }
   },
   "cell_type": "code",
   "source": "doc = Document(\"Актуал_РНГП.docx\")",
   "id": "19524ce9854ff5eb",
   "outputs": [],
   "execution_count": 2
  },
  {
   "metadata": {
    "ExecuteTime": {
     "end_time": "2025-04-11T10:18:09.903907Z",
     "start_time": "2025-04-11T10:18:08.865724Z"
    }
   },
   "cell_type": "code",
   "source": [
    "all_tables = []\n",
    "for element in doc.element.body.iterchildren():\n",
    "    if isinstance(element, CT_P):\n",
    "        continue\n",
    "    #         if element.style.name == \"ConsPlusTitle\":\n",
    "    #     if switcher:\n",
    "    #         current_par = [paragraph.text]\n",
    "    #         total_parapgraphs.append(paragraph.text)\n",
    "    #         switcher = False\n",
    "    #     else:\n",
    "    #         current_par.append(paragraph.text)\n",
    "    #         total_parapgraphs.append(paragraph.text)\n",
    "    # else:\n",
    "    #     if not switcher:\n",
    "    #         switcher = True\n",
    "    #     if paragraph.text:\n",
    "    #         list_for_save.append(\n",
    "    #             {\n",
    "    #                 \"text\": paragraph.text,\n",
    "    #                 \"title\": \"\".join(current_par),\n",
    "    #                 \"NER\": extract_ner(paragraph.text),\n",
    "    #             }\n",
    "    #         )\n",
    "    elif isinstance(element, CT_Tbl):\n",
    "        table = None\n",
    "        for t in doc.tables:\n",
    "            if t._tbl is element:\n",
    "                table = t\n",
    "        if table:\n",
    "            table_data = []\n",
    "            for row in table.rows:\n",
    "                row_data = [cell.text.strip() for cell in row.cells]\n",
    "                table_data.append(row_data)\n",
    "            all_tables.append(table_data)"
   ],
   "id": "e082601a23530963",
   "outputs": [],
   "execution_count": 22
  },
  {
   "metadata": {
    "ExecuteTime": {
     "end_time": "2025-04-11T10:20:20.869439Z",
     "start_time": "2025-04-11T10:20:20.857835Z"
    }
   },
   "cell_type": "code",
   "source": "df_list = [pd.DataFrame(table[1:], columns=table[0]) for table in all_tables]",
   "id": "7e7691c4026bb269",
   "outputs": [],
   "execution_count": 23
  },
  {
   "metadata": {
    "ExecuteTime": {
     "end_time": "2025-04-11T14:44:36.699916Z",
     "start_time": "2025-04-11T14:44:36.483782Z"
    }
   },
   "cell_type": "code",
   "source": "df_list[5]",
   "id": "dd3ce83431d14b8e",
   "outputs": [
    {
     "ename": "NameError",
     "evalue": "name 'df_list' is not defined",
     "output_type": "error",
     "traceback": [
      "\u001B[31m---------------------------------------------------------------------------\u001B[39m",
      "\u001B[31mNameError\u001B[39m                                 Traceback (most recent call last)",
      "\u001B[36mCell\u001B[39m\u001B[36m \u001B[39m\u001B[32mIn[1]\u001B[39m\u001B[32m, line 1\u001B[39m\n\u001B[32m----> \u001B[39m\u001B[32m1\u001B[39m \u001B[43mdf_list\u001B[49m[\u001B[32m6\u001B[39m]\n",
      "\u001B[31mNameError\u001B[39m: name 'df_list' is not defined"
     ]
    }
   ],
   "execution_count": 1
  },
  {
   "metadata": {},
   "cell_type": "code",
   "outputs": [],
   "execution_count": null,
   "source": "",
   "id": "da19e992c6ec4d8e"
  }
 ],
 "metadata": {
  "kernelspec": {
   "display_name": "Python 3",
   "language": "python",
   "name": "python3"
  },
  "language_info": {
   "codemirror_mode": {
    "name": "ipython",
    "version": 2
   },
   "file_extension": ".py",
   "mimetype": "text/x-python",
   "name": "python",
   "nbconvert_exporter": "python",
   "pygments_lexer": "ipython2",
   "version": "2.7.6"
  }
 },
 "nbformat": 4,
 "nbformat_minor": 5
}
